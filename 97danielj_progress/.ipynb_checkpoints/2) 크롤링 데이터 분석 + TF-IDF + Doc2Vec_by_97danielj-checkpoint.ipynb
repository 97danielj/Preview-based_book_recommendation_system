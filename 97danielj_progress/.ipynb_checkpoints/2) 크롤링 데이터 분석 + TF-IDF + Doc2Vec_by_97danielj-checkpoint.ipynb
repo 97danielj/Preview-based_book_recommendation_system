{
 "cells": [
  {
   "cell_type": "code",
   "execution_count": 1,
   "id": "a07ab202",
   "metadata": {},
   "outputs": [],
   "source": [
    "# 라이브러리 가져오기\n",
    "import re\n",
    "import json\n",
    "import numpy as np\n",
    "import pandas as pd"
   ]
  },
  {
   "cell_type": "markdown",
   "id": "5647a640",
   "metadata": {},
   "source": [
    "# 데이터 가져오기"
   ]
  },
  {
   "cell_type": "markdown",
   "id": "b269d957",
   "metadata": {},
   "source": [
    "## 1. 스테디셀러 데이터"
   ]
  },
  {
   "cell_type": "code",
   "execution_count": 4,
   "id": "a5f89f9b",
   "metadata": {},
   "outputs": [],
   "source": [
    "# 데이터 가져오기\n",
    "df = pd.read_json(\"../preview_data/yes24_steady.json\")"
   ]
  },
  {
   "cell_type": "code",
   "execution_count": 5,
   "id": "4d9cafe9",
   "metadata": {
    "scrolled": true
   },
   "outputs": [
    {
     "data": {
      "text/html": [
       "<div>\n",
       "<style scoped>\n",
       "    .dataframe tbody tr th:only-of-type {\n",
       "        vertical-align: middle;\n",
       "    }\n",
       "\n",
       "    .dataframe tbody tr th {\n",
       "        vertical-align: top;\n",
       "    }\n",
       "\n",
       "    .dataframe thead th {\n",
       "        text-align: right;\n",
       "    }\n",
       "</style>\n",
       "<table border=\"1\" class=\"dataframe\">\n",
       "  <thead>\n",
       "    <tr style=\"text-align: right;\">\n",
       "      <th></th>\n",
       "      <th>title</th>\n",
       "      <th>preview</th>\n",
       "    </tr>\n",
       "  </thead>\n",
       "  <tbody>\n",
       "    <tr>\n",
       "      <th>0</th>\n",
       "      <td>불편한 편의점</td>\n",
       "      <td></td>\n",
       "    </tr>\n",
       "    <tr>\n",
       "      <th>1</th>\n",
       "      <td>야간비행</td>\n",
       "      <td>항공사에서 다른 운송수단과의 속도 경쟁은 중요한 일이다. 이 책에서 감탄할 만한 책...</td>\n",
       "    </tr>\n",
       "    <tr>\n",
       "      <th>2</th>\n",
       "      <td>밝은 밤</td>\n",
       "      <td></td>\n",
       "    </tr>\n",
       "    <tr>\n",
       "      <th>3</th>\n",
       "      <td>나의 아름다운 이웃 (개정판)</td>\n",
       "      <td></td>\n",
       "    </tr>\n",
       "    <tr>\n",
       "      <th>4</th>\n",
       "      <td>아몬드</td>\n",
       "      <td></td>\n",
       "    </tr>\n",
       "    <tr>\n",
       "      <th>...</th>\n",
       "      <td>...</td>\n",
       "      <td>...</td>\n",
       "    </tr>\n",
       "    <tr>\n",
       "      <th>833</th>\n",
       "      <td>오 헨리 단편선 - 세계문학전집 350</td>\n",
       "      <td></td>\n",
       "    </tr>\n",
       "    <tr>\n",
       "      <th>834</th>\n",
       "      <td>[세트] 그레이의 50가지 그림자 전권 (전6권)</td>\n",
       "      <td></td>\n",
       "    </tr>\n",
       "    <tr>\n",
       "      <th>835</th>\n",
       "      <td>더블린 사람들 - 세계문학전집 307</td>\n",
       "      <td></td>\n",
       "    </tr>\n",
       "    <tr>\n",
       "      <th>836</th>\n",
       "      <td>그 남자네 집</td>\n",
       "      <td></td>\n",
       "    </tr>\n",
       "    <tr>\n",
       "      <th>837</th>\n",
       "      <td>여름에 우리가 먹는 것</td>\n",
       "      <td></td>\n",
       "    </tr>\n",
       "  </tbody>\n",
       "</table>\n",
       "<p>838 rows × 2 columns</p>\n",
       "</div>"
      ],
      "text/plain": [
       "                           title  \\\n",
       "0                        불편한 편의점   \n",
       "1                           야간비행   \n",
       "2                           밝은 밤   \n",
       "3               나의 아름다운 이웃 (개정판)   \n",
       "4                            아몬드   \n",
       "..                           ...   \n",
       "833        오 헨리 단편선 - 세계문학전집 350   \n",
       "834  [세트] 그레이의 50가지 그림자 전권 (전6권)   \n",
       "835         더블린 사람들 - 세계문학전집 307   \n",
       "836                      그 남자네 집   \n",
       "837                 여름에 우리가 먹는 것   \n",
       "\n",
       "                                               preview  \n",
       "0                                                       \n",
       "1    항공사에서 다른 운송수단과의 속도 경쟁은 중요한 일이다. 이 책에서 감탄할 만한 책...  \n",
       "2                                                       \n",
       "3                                                       \n",
       "4                                                       \n",
       "..                                                 ...  \n",
       "833                                                     \n",
       "834                                                     \n",
       "835                                                     \n",
       "836                                                     \n",
       "837                                                     \n",
       "\n",
       "[838 rows x 2 columns]"
      ]
     },
     "execution_count": 5,
     "metadata": {},
     "output_type": "execute_result"
    }
   ],
   "source": [
    "df"
   ]
  },
  {
   "cell_type": "markdown",
   "id": "cd124d58",
   "metadata": {},
   "source": [
    "## 2. 일반 목록 데이터 가져오기"
   ]
  },
  {
   "cell_type": "code",
   "execution_count": 7,
   "id": "5bfbcc49",
   "metadata": {},
   "outputs": [],
   "source": [
    "normal_list = ['korean', 'english', 'detector', 'sf', 'history','family','love', 'fairy_tail_for_older', 'from_movie', 'scenario']"
   ]
  },
  {
   "cell_type": "code",
   "execution_count": 8,
   "id": "7905a1a6",
   "metadata": {},
   "outputs": [],
   "source": [
    "target = normal_list[0]\n",
    "for i in range(10,101,10):\n",
    "    df = pd.concat([df, pd.read_json(f'../preview_data/yes24_normal_{target}_{i}.json')])"
   ]
  },
  {
   "cell_type": "code",
   "execution_count": 10,
   "id": "3e91946b",
   "metadata": {},
   "outputs": [
    {
     "data": {
      "text/plain": [
       "4145"
      ]
     },
     "execution_count": 10,
     "metadata": {},
     "output_type": "execute_result"
    }
   ],
   "source": [
    "len(df)"
   ]
  },
  {
   "cell_type": "code",
   "execution_count": 11,
   "id": "2ebd7339",
   "metadata": {},
   "outputs": [],
   "source": [
    "target = normal_list[1]\n",
    "for i in range(10,101,10):\n",
    "    df = pd.concat([df, pd.read_json(f'../preview_data/yes24_normal_{target}_{i}.json')])"
   ]
  },
  {
   "cell_type": "code",
   "execution_count": 12,
   "id": "33f6bf34",
   "metadata": {},
   "outputs": [
    {
     "data": {
      "text/plain": [
       "7764"
      ]
     },
     "execution_count": 12,
     "metadata": {},
     "output_type": "execute_result"
    }
   ],
   "source": [
    "len(df)"
   ]
  },
  {
   "cell_type": "code",
   "execution_count": 13,
   "id": "91408421",
   "metadata": {},
   "outputs": [],
   "source": [
    "target = normal_list[2]\n",
    "for i in range(5,51,5):\n",
    "    df = pd.concat([df, pd.read_json(f'../preview_data/yes24_normal_{target}_{i}.json')])"
   ]
  },
  {
   "cell_type": "code",
   "execution_count": 14,
   "id": "924418a4",
   "metadata": {},
   "outputs": [
    {
     "data": {
      "text/plain": [
       "9730"
      ]
     },
     "execution_count": 14,
     "metadata": {},
     "output_type": "execute_result"
    }
   ],
   "source": [
    "len(df)"
   ]
  },
  {
   "cell_type": "code",
   "execution_count": 15,
   "id": "47ef626f",
   "metadata": {},
   "outputs": [
    {
     "name": "stdout",
     "output_type": "stream",
     "text": [
      "sf\n"
     ]
    }
   ],
   "source": [
    "target = normal_list[3]\n",
    "print(target)\n",
    "for i in range(5,41,5):\n",
    "    df = pd.concat([df, pd.read_json(f'../preview_data/yes24_normal_{target}_{i}.json')])"
   ]
  },
  {
   "cell_type": "code",
   "execution_count": 16,
   "id": "caa89637",
   "metadata": {},
   "outputs": [
    {
     "data": {
      "text/plain": [
       "11310"
      ]
     },
     "execution_count": 16,
     "metadata": {},
     "output_type": "execute_result"
    }
   ],
   "source": [
    "len(df)"
   ]
  },
  {
   "cell_type": "code",
   "execution_count": 17,
   "id": "6feeb419",
   "metadata": {},
   "outputs": [
    {
     "name": "stdout",
     "output_type": "stream",
     "text": [
      "history\n"
     ]
    }
   ],
   "source": [
    "target = normal_list[4]\n",
    "print(target)\n",
    "for i in range(5,11,5):\n",
    "    df = pd.concat([df, pd.read_json(f'../preview_data/yes24_normal_{target}_{i}.json')])"
   ]
  },
  {
   "cell_type": "code",
   "execution_count": 18,
   "id": "1dcfe9ee",
   "metadata": {},
   "outputs": [
    {
     "data": {
      "text/plain": [
       "11704"
      ]
     },
     "execution_count": 18,
     "metadata": {},
     "output_type": "execute_result"
    }
   ],
   "source": [
    "len(df)"
   ]
  },
  {
   "cell_type": "code",
   "execution_count": 20,
   "id": "5e41dbb9",
   "metadata": {},
   "outputs": [],
   "source": [
    "target = normal_list[5]\n",
    "df = pd.concat([df, pd.read_json(f'../preview_data/yes24_normal_{target}_last.json')])"
   ]
  },
  {
   "cell_type": "code",
   "execution_count": 22,
   "id": "498412fc",
   "metadata": {},
   "outputs": [
    {
     "data": {
      "text/plain": [
       "11818"
      ]
     },
     "execution_count": 22,
     "metadata": {},
     "output_type": "execute_result"
    }
   ],
   "source": [
    "len(df)"
   ]
  },
  {
   "cell_type": "code",
   "execution_count": 23,
   "id": "731419fe",
   "metadata": {},
   "outputs": [
    {
     "name": "stdout",
     "output_type": "stream",
     "text": [
      "love\n"
     ]
    }
   ],
   "source": [
    "target = normal_list[6]\n",
    "print(target)\n",
    "df = pd.concat([df, pd.read_json(f'../preview_data/yes24_normal_{target}_5.json')])\n",
    "df = pd.concat([df, pd.read_json(f'../preview_data/yes24_normal_{target}_last.json')])"
   ]
  },
  {
   "cell_type": "code",
   "execution_count": 24,
   "id": "c2d39681",
   "metadata": {},
   "outputs": [
    {
     "data": {
      "text/plain": [
       "12094"
      ]
     },
     "execution_count": 24,
     "metadata": {},
     "output_type": "execute_result"
    }
   ],
   "source": [
    "len(df)"
   ]
  },
  {
   "cell_type": "code",
   "execution_count": 25,
   "id": "fe0692d8",
   "metadata": {},
   "outputs": [
    {
     "name": "stdout",
     "output_type": "stream",
     "text": [
      "fairy_tail_for_older\n"
     ]
    },
    {
     "data": {
      "text/plain": [
       "12473"
      ]
     },
     "execution_count": 25,
     "metadata": {},
     "output_type": "execute_result"
    }
   ],
   "source": [
    "target = normal_list[7]\n",
    "print(target)\n",
    "for i in range(5,11,5):\n",
    "    df = pd.concat([df, pd.read_json(f'../preview_data/yes24_normal_{target}_{i}.json')])\n",
    "len(df)"
   ]
  },
  {
   "cell_type": "code",
   "execution_count": 26,
   "id": "9f45a78c",
   "metadata": {},
   "outputs": [
    {
     "name": "stdout",
     "output_type": "stream",
     "text": [
      "from_movie\n"
     ]
    },
    {
     "data": {
      "text/plain": [
       "12704"
      ]
     },
     "execution_count": 26,
     "metadata": {},
     "output_type": "execute_result"
    }
   ],
   "source": [
    "target = normal_list[8]\n",
    "print(target)\n",
    "df = pd.concat([df, pd.read_json(f'../preview_data/yes24_normal_{target}_5.json')])\n",
    "df = pd.concat([df, pd.read_json(f'../preview_data/yes24_normal_{target}_last.json')])\n",
    "len(df)"
   ]
  },
  {
   "cell_type": "code",
   "execution_count": 27,
   "id": "4f5d0637",
   "metadata": {},
   "outputs": [
    {
     "name": "stdout",
     "output_type": "stream",
     "text": [
      "scenario\n"
     ]
    },
    {
     "data": {
      "text/plain": [
       "13132"
      ]
     },
     "execution_count": 27,
     "metadata": {},
     "output_type": "execute_result"
    }
   ],
   "source": [
    "target = normal_list[9]\n",
    "print(target)\n",
    "for i in range(5,11,5):\n",
    "    df = pd.concat([df, pd.read_json(f'../preview_data/yes24_normal_{target}_{i}.json')])\n",
    "df = pd.concat([df, pd.read_json(f'../preview_data/yes24_normal_{target}_last.json')])\n",
    "len(df)"
   ]
  },
  {
   "cell_type": "code",
   "execution_count": 29,
   "id": "824d50d2",
   "metadata": {},
   "outputs": [
    {
     "data": {
      "text/plain": [
       "13132"
      ]
     },
     "execution_count": 29,
     "metadata": {},
     "output_type": "execute_result"
    }
   ],
   "source": [
    "len(df)"
   ]
  },
  {
   "cell_type": "markdown",
   "id": "ff9a1bf8",
   "metadata": {},
   "source": [
    "## 프리뷰 전처리"
   ]
  },
  {
   "cell_type": "code",
   "execution_count": 30,
   "id": "9ca72659",
   "metadata": {},
   "outputs": [],
   "source": [
    "# 한국어와 공백이 아닌 모든 문자를 공백으로 바꾼다.\n",
    "df.preview = df.preview.str.replace(r\"[^가-힣 \\s]\", \" \", regex=True)\n",
    "\n",
    "# 여러개의 공백을 하나의 공백으로 바꾼다\n",
    "df.preview = df.preview.str.replace(r\"\\s+\", \" \", regex=True)\n",
    "\n",
    "# 문장 앞 뒤의 공백을 제거한다\n",
    "df.preview = df.preview.str.strip()\n",
    "\n",
    "# 빈 공백을 nan 으로 바꾼다\n",
    "df.preview = df.preview.replace(\"\", np.nan)\n",
    "\n",
    "# 결측치 제거\n",
    "df = df.dropna()"
   ]
  },
  {
   "cell_type": "code",
   "execution_count": 31,
   "id": "92e58220",
   "metadata": {},
   "outputs": [
    {
     "data": {
      "text/html": [
       "<div>\n",
       "<style scoped>\n",
       "    .dataframe tbody tr th:only-of-type {\n",
       "        vertical-align: middle;\n",
       "    }\n",
       "\n",
       "    .dataframe tbody tr th {\n",
       "        vertical-align: top;\n",
       "    }\n",
       "\n",
       "    .dataframe thead th {\n",
       "        text-align: right;\n",
       "    }\n",
       "</style>\n",
       "<table border=\"1\" class=\"dataframe\">\n",
       "  <thead>\n",
       "    <tr style=\"text-align: right;\">\n",
       "      <th></th>\n",
       "      <th>title</th>\n",
       "      <th>preview</th>\n",
       "    </tr>\n",
       "  </thead>\n",
       "  <tbody>\n",
       "    <tr>\n",
       "      <th>1</th>\n",
       "      <td>야간비행</td>\n",
       "      <td>항공사에서 다른 운송수단과의 속도 경쟁은 중요한 일이다 이 책에서 감탄할 만한 책임...</td>\n",
       "    </tr>\n",
       "    <tr>\n",
       "      <th>7</th>\n",
       "      <td>친밀한 이방인</td>\n",
       "      <td>지난 월 나는 신문을 읽다가 흥미로운 광고를 보았다 이 책을 쓴 사람을 찾습니다 라...</td>\n",
       "    </tr>\n",
       "    <tr>\n",
       "      <th>8</th>\n",
       "      <td>지구 끝의 온실</td>\n",
       "      <td>낡은 차가 덜컹거리며 오르막 흙길 앞에 멈춰 섰다 끊겨 있는 나무 계단 낡은 이정표...</td>\n",
       "    </tr>\n",
       "    <tr>\n",
       "      <th>9</th>\n",
       "      <td>벼랑 위의 집</td>\n",
       "      <td>발행일 년 월 일 지은이 클룬 옮긴이 송섬별 펴낸이 김석원 펴낸곳 도서출판 든 출판...</td>\n",
       "    </tr>\n",
       "    <tr>\n",
       "      <th>11</th>\n",
       "      <td>미드나잇 라이브러리</td>\n",
       "      <td>죽기로 결심하기 년 전 노라 시드는 베드퍼드에 있는 헤이즐딘 스쿨의 아늑하고 작은 ...</td>\n",
       "    </tr>\n",
       "    <tr>\n",
       "      <th>...</th>\n",
       "      <td>...</td>\n",
       "      <td>...</td>\n",
       "    </tr>\n",
       "    <tr>\n",
       "      <th>35</th>\n",
       "      <td>대머리 록커</td>\n",
       "      <td>최유정 교도소 미용사 연출 대머리 록커 시나리오 원로작가 스토리 회원작가 스토리 멘...</td>\n",
       "    </tr>\n",
       "    <tr>\n",
       "      <th>36</th>\n",
       "      <td>페어 웰</td>\n",
       "      <td>조다연 단편 영화 가짜조폭 서비스맨 과 단편 애니메이션 도망쳐 스티로폼 연출 성균관...</td>\n",
       "    </tr>\n",
       "    <tr>\n",
       "      <th>37</th>\n",
       "      <td>다이어트 팩토리</td>\n",
       "      <td>조수연 한국예술종합학교 영화과 시나리오 전공 원로작가 스토리 회원작가 스토리 멘토링...</td>\n",
       "    </tr>\n",
       "    <tr>\n",
       "      <th>38</th>\n",
       "      <td>오프셋</td>\n",
       "      <td>최범석 중앙대학교 문예창작학과 졸업 원로작가 스토리 회원작가 스토리 멘토링 완성작 ...</td>\n",
       "    </tr>\n",
       "    <tr>\n",
       "      <th>39</th>\n",
       "      <td>히든 키친</td>\n",
       "      <td>한예림 한예림 세상에 사랑과 정의가 있다고 말하고 싶은 작가입니다 장르는 로맨스 코...</td>\n",
       "    </tr>\n",
       "  </tbody>\n",
       "</table>\n",
       "<p>6152 rows × 2 columns</p>\n",
       "</div>"
      ],
      "text/plain": [
       "         title                                            preview\n",
       "1         야간비행  항공사에서 다른 운송수단과의 속도 경쟁은 중요한 일이다 이 책에서 감탄할 만한 책임...\n",
       "7      친밀한 이방인  지난 월 나는 신문을 읽다가 흥미로운 광고를 보았다 이 책을 쓴 사람을 찾습니다 라...\n",
       "8     지구 끝의 온실  낡은 차가 덜컹거리며 오르막 흙길 앞에 멈춰 섰다 끊겨 있는 나무 계단 낡은 이정표...\n",
       "9      벼랑 위의 집  발행일 년 월 일 지은이 클룬 옮긴이 송섬별 펴낸이 김석원 펴낸곳 도서출판 든 출판...\n",
       "11  미드나잇 라이브러리  죽기로 결심하기 년 전 노라 시드는 베드퍼드에 있는 헤이즐딘 스쿨의 아늑하고 작은 ...\n",
       "..         ...                                                ...\n",
       "35      대머리 록커  최유정 교도소 미용사 연출 대머리 록커 시나리오 원로작가 스토리 회원작가 스토리 멘...\n",
       "36        페어 웰  조다연 단편 영화 가짜조폭 서비스맨 과 단편 애니메이션 도망쳐 스티로폼 연출 성균관...\n",
       "37    다이어트 팩토리  조수연 한국예술종합학교 영화과 시나리오 전공 원로작가 스토리 회원작가 스토리 멘토링...\n",
       "38         오프셋  최범석 중앙대학교 문예창작학과 졸업 원로작가 스토리 회원작가 스토리 멘토링 완성작 ...\n",
       "39       히든 키친  한예림 한예림 세상에 사랑과 정의가 있다고 말하고 싶은 작가입니다 장르는 로맨스 코...\n",
       "\n",
       "[6152 rows x 2 columns]"
      ]
     },
     "execution_count": 31,
     "metadata": {},
     "output_type": "execute_result"
    }
   ],
   "source": [
    "df\n",
    "## 1506개로 줄어든다."
   ]
  },
  {
   "cell_type": "markdown",
   "id": "d0ffe205",
   "metadata": {},
   "source": [
    "## 타이틀 전처리"
   ]
  },
  {
   "cell_type": "code",
   "execution_count": 32,
   "id": "69f7bf1d",
   "metadata": {},
   "outputs": [],
   "source": [
    "# 대괄호 내부에 문자를 제거한다\n",
    "df.title = df.title.str.replace(r\"\\[.+\\]\", \"\", regex=True)\n",
    "\n",
    "# 여러개의 공백을 하나의 공백으로 바꾼다\n",
    "df.title = df.title.str.replace(r\"\\s+\", \" \", regex=True)\n",
    "\n",
    "# 문장 앞 뒤의 공백을 제거한다\n",
    "df.title = df.title.str.strip()\n",
    "\n",
    "# 제목 중복을 제거한다\n",
    "df = df.drop_duplicates([\"title\"])\n",
    "\n",
    "# 미리보기 중복을 제거한다\n",
    "df = df.drop_duplicates([\"preview\"])"
   ]
  },
  {
   "cell_type": "code",
   "execution_count": 33,
   "id": "1c5e2a84",
   "metadata": {},
   "outputs": [],
   "source": [
    "# 1000자 미만 삭제\n",
    "df = df[df.preview.str.len() > 1000]"
   ]
  },
  {
   "cell_type": "code",
   "execution_count": 34,
   "id": "491ab247",
   "metadata": {},
   "outputs": [],
   "source": [
    "# 인덱스를 재설정한다.\n",
    "df = df.reset_index(drop=True, inplace=False)"
   ]
  },
  {
   "cell_type": "code",
   "execution_count": 35,
   "id": "69a0acdd",
   "metadata": {},
   "outputs": [
    {
     "data": {
      "text/html": [
       "<div>\n",
       "<style scoped>\n",
       "    .dataframe tbody tr th:only-of-type {\n",
       "        vertical-align: middle;\n",
       "    }\n",
       "\n",
       "    .dataframe tbody tr th {\n",
       "        vertical-align: top;\n",
       "    }\n",
       "\n",
       "    .dataframe thead th {\n",
       "        text-align: right;\n",
       "    }\n",
       "</style>\n",
       "<table border=\"1\" class=\"dataframe\">\n",
       "  <thead>\n",
       "    <tr style=\"text-align: right;\">\n",
       "      <th></th>\n",
       "      <th>title</th>\n",
       "      <th>preview</th>\n",
       "    </tr>\n",
       "  </thead>\n",
       "  <tbody>\n",
       "    <tr>\n",
       "      <th>0</th>\n",
       "      <td>야간비행</td>\n",
       "      <td>항공사에서 다른 운송수단과의 속도 경쟁은 중요한 일이다 이 책에서 감탄할 만한 책임...</td>\n",
       "    </tr>\n",
       "    <tr>\n",
       "      <th>1</th>\n",
       "      <td>친밀한 이방인</td>\n",
       "      <td>지난 월 나는 신문을 읽다가 흥미로운 광고를 보았다 이 책을 쓴 사람을 찾습니다 라...</td>\n",
       "    </tr>\n",
       "    <tr>\n",
       "      <th>2</th>\n",
       "      <td>지구 끝의 온실</td>\n",
       "      <td>낡은 차가 덜컹거리며 오르막 흙길 앞에 멈춰 섰다 끊겨 있는 나무 계단 낡은 이정표...</td>\n",
       "    </tr>\n",
       "    <tr>\n",
       "      <th>3</th>\n",
       "      <td>벼랑 위의 집</td>\n",
       "      <td>발행일 년 월 일 지은이 클룬 옮긴이 송섬별 펴낸이 김석원 펴낸곳 도서출판 든 출판...</td>\n",
       "    </tr>\n",
       "    <tr>\n",
       "      <th>4</th>\n",
       "      <td>미드나잇 라이브러리</td>\n",
       "      <td>죽기로 결심하기 년 전 노라 시드는 베드퍼드에 있는 헤이즐딘 스쿨의 아늑하고 작은 ...</td>\n",
       "    </tr>\n",
       "    <tr>\n",
       "      <th>...</th>\n",
       "      <td>...</td>\n",
       "      <td>...</td>\n",
       "    </tr>\n",
       "    <tr>\n",
       "      <th>4427</th>\n",
       "      <td>낙타는 따로 울지 않는다</td>\n",
       "      <td>지상학 년 충북 충주 출생 년 애니메이션 로보트 태권 데뷔 년 동아일보 신춘문예 시...</td>\n",
       "    </tr>\n",
       "    <tr>\n",
       "      <th>4428</th>\n",
       "      <td>구름은 흘러도</td>\n",
       "      <td>김지헌 평안남도 진남포 태생인 김지헌은 해방 이전에 서울로 이주하여 경동중학교를 다...</td>\n",
       "    </tr>\n",
       "    <tr>\n",
       "      <th>4429</th>\n",
       "      <td>갯마을</td>\n",
       "      <td>신봉승 년 월 일 강원도에서 태어났다 강릉초등학교 강릉사범학교 를 졸업하고 향리에서...</td>\n",
       "    </tr>\n",
       "    <tr>\n",
       "      <th>4430</th>\n",
       "      <td>페어 웰</td>\n",
       "      <td>조다연 단편 영화 가짜조폭 서비스맨 과 단편 애니메이션 도망쳐 스티로폼 연출 성균관...</td>\n",
       "    </tr>\n",
       "    <tr>\n",
       "      <th>4431</th>\n",
       "      <td>오프셋</td>\n",
       "      <td>최범석 중앙대학교 문예창작학과 졸업 원로작가 스토리 회원작가 스토리 멘토링 완성작 ...</td>\n",
       "    </tr>\n",
       "  </tbody>\n",
       "</table>\n",
       "<p>4432 rows × 2 columns</p>\n",
       "</div>"
      ],
      "text/plain": [
       "              title                                            preview\n",
       "0              야간비행  항공사에서 다른 운송수단과의 속도 경쟁은 중요한 일이다 이 책에서 감탄할 만한 책임...\n",
       "1           친밀한 이방인  지난 월 나는 신문을 읽다가 흥미로운 광고를 보았다 이 책을 쓴 사람을 찾습니다 라...\n",
       "2          지구 끝의 온실  낡은 차가 덜컹거리며 오르막 흙길 앞에 멈춰 섰다 끊겨 있는 나무 계단 낡은 이정표...\n",
       "3           벼랑 위의 집  발행일 년 월 일 지은이 클룬 옮긴이 송섬별 펴낸이 김석원 펴낸곳 도서출판 든 출판...\n",
       "4        미드나잇 라이브러리  죽기로 결심하기 년 전 노라 시드는 베드퍼드에 있는 헤이즐딘 스쿨의 아늑하고 작은 ...\n",
       "...             ...                                                ...\n",
       "4427  낙타는 따로 울지 않는다  지상학 년 충북 충주 출생 년 애니메이션 로보트 태권 데뷔 년 동아일보 신춘문예 시...\n",
       "4428        구름은 흘러도  김지헌 평안남도 진남포 태생인 김지헌은 해방 이전에 서울로 이주하여 경동중학교를 다...\n",
       "4429            갯마을  신봉승 년 월 일 강원도에서 태어났다 강릉초등학교 강릉사범학교 를 졸업하고 향리에서...\n",
       "4430           페어 웰  조다연 단편 영화 가짜조폭 서비스맨 과 단편 애니메이션 도망쳐 스티로폼 연출 성균관...\n",
       "4431            오프셋  최범석 중앙대학교 문예창작학과 졸업 원로작가 스토리 회원작가 스토리 멘토링 완성작 ...\n",
       "\n",
       "[4432 rows x 2 columns]"
      ]
     },
     "execution_count": 35,
     "metadata": {},
     "output_type": "execute_result"
    }
   ],
   "source": [
    "df"
   ]
  },
  {
   "cell_type": "markdown",
   "id": "3b1eb08e",
   "metadata": {},
   "source": [
    "# 명사 형태소 분석"
   ]
  },
  {
   "cell_type": "code",
   "execution_count": 36,
   "id": "ecdbcc51",
   "metadata": {},
   "outputs": [],
   "source": [
    "# 라이브러리 가져오기\n",
    "from tqdm.auto import tqdm\n",
    "from konlpy.tag import Mecab\n",
    "\n",
    "# 미캡 객체 생성\n",
    "tagger = Mecab(dicpath=r\"C:\\mecab\\mecab-ko-dic\")"
   ]
  },
  {
   "cell_type": "code",
   "execution_count": 37,
   "id": "2153762e",
   "metadata": {},
   "outputs": [
    {
     "data": {
      "application/vnd.jupyter.widget-view+json": {
       "model_id": "d6f95b1d6b54402fae0b6ab4b75e2f9c",
       "version_major": 2,
       "version_minor": 0
      },
      "text/plain": [
       "  0%|          | 0/4432 [00:00<?, ?it/s]"
      ]
     },
     "metadata": {},
     "output_type": "display_data"
    }
   ],
   "source": [
    "# 분석할 데이터 담을 변수\n",
    "analyzed_data = []\n",
    "\n",
    "# 미리보기 데이터 조회\n",
    "for preview in tqdm(df.preview):\n",
    "    \n",
    "    # 명사만 추출\n",
    "    tag_result = tagger.nouns(preview)\n",
    "    \n",
    "    # 각 단어를 공백을 사이에 두고 하나로 합침\n",
    "    result = \" \".join(tag_result)\n",
    "\n",
    "    # 데이터를 변수에 담음\n",
    "    analyzed_data.append(result)"
   ]
  },
  {
   "cell_type": "markdown",
   "id": "b99c4479",
   "metadata": {},
   "source": [
    "# TF-IDF유사도 분석"
   ]
  },
  {
   "cell_type": "code",
   "execution_count": 39,
   "id": "3c162b1a",
   "metadata": {},
   "outputs": [],
   "source": [
    "from sklearn.feature_extraction.text import TfidfVectorizer"
   ]
  },
  {
   "cell_type": "code",
   "execution_count": 40,
   "id": "223ad619",
   "metadata": {},
   "outputs": [
    {
     "name": "stdout",
     "output_type": "stream",
     "text": [
      "TF-IDF 행렬의 크기(shape) : (4432, 89441)\n"
     ]
    }
   ],
   "source": [
    "# TF-IDF를 벡터로 분석\n",
    "#analyzed_data는 TDM이ㅏㄷ. \n",
    "tfidf_matrix = TfidfVectorizer().fit_transform(analyzed_data)\n",
    "print('TF-IDF 행렬의 크기(shape) :', tfidf_matrix.shape)"
   ]
  },
  {
   "cell_type": "code",
   "execution_count": 41,
   "id": "9cbc8064",
   "metadata": {},
   "outputs": [],
   "source": [
    "#4432개의 도서 문서에 89,441개의 단어가 사용"
   ]
  },
  {
   "cell_type": "code",
   "execution_count": 42,
   "id": "817a012c",
   "metadata": {},
   "outputs": [],
   "source": [
    "from sklearn.metrics.pairwise import cosine_similarity"
   ]
  },
  {
   "cell_type": "code",
   "execution_count": 43,
   "id": "08812d62",
   "metadata": {},
   "outputs": [
    {
     "name": "stdout",
     "output_type": "stream",
     "text": [
      "코사인 유사도 연산 결과 : (4432, 4432)\n"
     ]
    }
   ],
   "source": [
    "# TF-IDF 벡터의 cosine 유사도 계산\n",
    "cosine_sim = cosine_similarity(tfidf_matrix, tfidf_matrix)\n",
    "print('코사인 유사도 연산 결과 :' ,cosine_sim.shape)"
   ]
  },
  {
   "cell_type": "code",
   "execution_count": 44,
   "id": "44c4c4a2",
   "metadata": {},
   "outputs": [],
   "source": [
    "# 제목을 TF-IDF 안의 인덱스로 변환하기 위한 준비\n",
    "title_to_index = dict(zip(df['title'], df.index))"
   ]
  },
  {
   "cell_type": "code",
   "execution_count": 45,
   "id": "b2a3df98",
   "metadata": {},
   "outputs": [
    {
     "data": {
      "text/plain": [
       "0"
      ]
     },
     "execution_count": 45,
     "metadata": {},
     "output_type": "execute_result"
    }
   ],
   "source": [
    "title_to_index['야간비행']"
   ]
  },
  {
   "cell_type": "code",
   "execution_count": 46,
   "id": "dd762cf5",
   "metadata": {},
   "outputs": [],
   "source": [
    "def get_recommendations(title, cosine_sim=cosine_sim):\n",
    "    # 선택한 소설의 타이틀로부터 해당 소설의 인덱스를 받아온다.\n",
    "    idx = title_to_index[title]\n",
    "\n",
    "    # 해당 소설과 모든 소설과의 유사도를 가져온다.\n",
    "    sim_scores = list(enumerate(cosine_sim[idx]))\n",
    "    \n",
    "    # 유사도에 따라 소설들을 정렬한다.\n",
    "    sim_scores = sorted(sim_scores, key=lambda x: x[1], reverse=True)\n",
    "\n",
    "    # 가장 유사한 10개의 소설을 받아온다.\n",
    "    sim_scores = sim_scores[1:11]\n",
    "    \n",
    "    # 가장 유사한 10개의 소설의 인덱스를 얻는다.\n",
    "    novel_indices = [idx[0] for idx in sim_scores]\n",
    "    \n",
    "    # 가장 유사한 10개의 소설의 제목을 리턴한다.\n",
    "    # 인덱스 리스트에서 제목 리스트로 변환한다.\n",
    "    title_list = df['title'].iloc[novel_indices]\n",
    "    # 소숫점 유사도를 퍼센트로 변환한다.\n",
    "    score_list = [round(score[1], 3) * 100 for score in sim_scores]\n",
    "    # 보기 편하도록 데이터 프레임으로 바꿔 반환한다.\n",
    "    return pd.DataFrame({\"제목\": title_list, \"score\": score_list})"
   ]
  },
  {
   "cell_type": "markdown",
   "id": "b3d8bebc",
   "metadata": {},
   "source": [
    "# TF-IDF 예시"
   ]
  },
  {
   "cell_type": "code",
   "execution_count": 47,
   "id": "2b80d830",
   "metadata": {},
   "outputs": [
    {
     "data": {
      "text/html": [
       "<div>\n",
       "<style scoped>\n",
       "    .dataframe tbody tr th:only-of-type {\n",
       "        vertical-align: middle;\n",
       "    }\n",
       "\n",
       "    .dataframe tbody tr th {\n",
       "        vertical-align: top;\n",
       "    }\n",
       "\n",
       "    .dataframe thead th {\n",
       "        text-align: right;\n",
       "    }\n",
       "</style>\n",
       "<table border=\"1\" class=\"dataframe\">\n",
       "  <thead>\n",
       "    <tr style=\"text-align: right;\">\n",
       "      <th></th>\n",
       "      <th>제목</th>\n",
       "      <th>score</th>\n",
       "    </tr>\n",
       "  </thead>\n",
       "  <tbody>\n",
       "    <tr>\n",
       "      <th>2535</th>\n",
       "      <td>붉은 수확</td>\n",
       "      <td>21.0</td>\n",
       "    </tr>\n",
       "    <tr>\n",
       "      <th>3203</th>\n",
       "      <td>여왕마저도</td>\n",
       "      <td>20.0</td>\n",
       "    </tr>\n",
       "    <tr>\n",
       "      <th>1438</th>\n",
       "      <td>도매가로 기억을 팝니다 - 필립 K.딕 단편집</td>\n",
       "      <td>18.5</td>\n",
       "    </tr>\n",
       "    <tr>\n",
       "      <th>575</th>\n",
       "      <td>이효석 단편소설 행진곡 - 한국문학전집 278</td>\n",
       "      <td>18.3</td>\n",
       "    </tr>\n",
       "    <tr>\n",
       "      <th>582</th>\n",
       "      <td>백신애 단편소설 소독부 - 한국문학전집 66</td>\n",
       "      <td>15.3</td>\n",
       "    </tr>\n",
       "    <tr>\n",
       "      <th>584</th>\n",
       "      <td>백신애 단편소설 학사 - 한국문학전집 80</td>\n",
       "      <td>15.2</td>\n",
       "    </tr>\n",
       "    <tr>\n",
       "      <th>583</th>\n",
       "      <td>나도향 단편소설 자기를 찾기전 - 한국문학전집 85</td>\n",
       "      <td>14.9</td>\n",
       "    </tr>\n",
       "    <tr>\n",
       "      <th>609</th>\n",
       "      <td>채만식 단편소설 치숙 - 한국문학전집27</td>\n",
       "      <td>14.9</td>\n",
       "    </tr>\n",
       "    <tr>\n",
       "      <th>581</th>\n",
       "      <td>백신애 단편소설 악부자 - 한국문학전집 69</td>\n",
       "      <td>14.8</td>\n",
       "    </tr>\n",
       "    <tr>\n",
       "      <th>504</th>\n",
       "      <td>백신애 단편소설 정조원 - 한국문학전집 74</td>\n",
       "      <td>14.8</td>\n",
       "    </tr>\n",
       "  </tbody>\n",
       "</table>\n",
       "</div>"
      ],
      "text/plain": [
       "                                제목  score\n",
       "2535                         붉은 수확   21.0\n",
       "3203                         여왕마저도   20.0\n",
       "1438     도매가로 기억을 팝니다 - 필립 K.딕 단편집   18.5\n",
       "575      이효석 단편소설 행진곡 - 한국문학전집 278   18.3\n",
       "582       백신애 단편소설 소독부 - 한국문학전집 66   15.3\n",
       "584        백신애 단편소설 학사 - 한국문학전집 80   15.2\n",
       "583   나도향 단편소설 자기를 찾기전 - 한국문학전집 85   14.9\n",
       "609         채만식 단편소설 치숙 - 한국문학전집27   14.9\n",
       "581       백신애 단편소설 악부자 - 한국문학전집 69   14.8\n",
       "504       백신애 단편소설 정조원 - 한국문학전집 74   14.8"
      ]
     },
     "execution_count": 47,
     "metadata": {},
     "output_type": "execute_result"
    }
   ],
   "source": [
    "# 제목으로 검색\n",
    "get_recommendations('캣퍼슨')"
   ]
  },
  {
   "cell_type": "markdown",
   "id": "00c015a2",
   "metadata": {},
   "source": [
    "# 형태소 전체 분석"
   ]
  },
  {
   "cell_type": "code",
   "execution_count": 48,
   "id": "c39447ca",
   "metadata": {},
   "outputs": [],
   "source": [
    "# 라이브러리 가져오기\n",
    "from tqdm.auto import tqdm\n",
    "from konlpy.tag import Mecab\n",
    "from gensim.models.doc2vec import TaggedDocument\n",
    "\n",
    "\n",
    "tagger = Mecab(dicpath=r\"C:\\mecab\\mecab-ko-dic\")"
   ]
  },
  {
   "cell_type": "code",
   "execution_count": 49,
   "id": "27d9dd99",
   "metadata": {},
   "outputs": [
    {
     "data": {
      "application/vnd.jupyter.widget-view+json": {
       "model_id": "61f28bc283ab47b78ea83efad5259b67",
       "version_major": 2,
       "version_minor": 0
      },
      "text/plain": [
       "  0%|          | 0/4432 [00:00<?, ?it/s]"
      ]
     },
     "metadata": {},
     "output_type": "display_data"
    },
    {
     "name": "stdout",
     "output_type": "stream",
     "text": [
      "문서의 수 : 4432\n"
     ]
    }
   ],
   "source": [
    "tagged_corpus_list = []\n",
    "\n",
    "# 한 행씩 순환\n",
    "for index, row in tqdm(df.iterrows(), total=len(df)):\n",
    "    preview = row['preview']\n",
    "    title = row['title']\n",
    "    \n",
    "    # 문장을 형태소로 자름\n",
    "    words = tagger.morphs(preview)\n",
    "    \n",
    "    # 각 행을 문서 객체로 변환\n",
    "    td = TaggedDocument(tags=[title], words=words)\n",
    "    \n",
    "    # 데이터를 변수에 담음\n",
    "    tagged_corpus_list.append(td)\n",
    "\n",
    "print('문서의 수 :', len(tagged_corpus_list))"
   ]
  },
  {
   "cell_type": "markdown",
   "id": "05328792",
   "metadata": {},
   "source": [
    "# Doc2Vec 모델 학습 + 저장"
   ]
  },
  {
   "cell_type": "code",
   "execution_count": 53,
   "id": "ae7de85f",
   "metadata": {},
   "outputs": [],
   "source": [
    "from gensim.models import doc2vec"
   ]
  },
  {
   "cell_type": "code",
   "execution_count": 54,
   "id": "c9abaad0",
   "metadata": {},
   "outputs": [],
   "source": [
    "model = doc2vec.Doc2Vec(vector_size=300, alpha=0.025, min_alpha=0.025, workers=4, window=8)"
   ]
  },
  {
   "cell_type": "code",
   "execution_count": 56,
   "id": "a07ceb61",
   "metadata": {},
   "outputs": [
    {
     "name": "stdout",
     "output_type": "stream",
     "text": [
      "Tag Size: 4432 / "
     ]
    }
   ],
   "source": [
    "# Vocabulary 빌드(데이터 주입)\n",
    "model.build_vocab(tagged_corpus_list)\n",
    "print(f\"Tag Size: {len(model.dv.index_to_key)}\", end=' / ')\n",
    "\n",
    "# Doc2Vec 학습\n",
    "model.train(tagged_corpus_list, total_examples=model.corpus_count, epochs=50)\n",
    "\n",
    "# 모델 저장\n",
    "model.save('./dart.doc2vec')"
   ]
  },
  {
   "cell_type": "markdown",
   "id": "4e7eac14",
   "metadata": {},
   "source": [
    "# 저장한 모델을 불러옴\n",
    "gensim 버전이 다르면 불러오지 못함"
   ]
  },
  {
   "cell_type": "code",
   "execution_count": 57,
   "id": "a9745baf",
   "metadata": {},
   "outputs": [],
   "source": [
    "model = doc2vec.Doc2Vec.load(\"dart.doc2vec\")"
   ]
  },
  {
   "cell_type": "markdown",
   "id": "8ba0dd49",
   "metadata": {},
   "source": [
    "# Doc2Vec 예시"
   ]
  },
  {
   "cell_type": "code",
   "execution_count": 58,
   "id": "f41517a5",
   "metadata": {},
   "outputs": [
    {
     "name": "stderr",
     "output_type": "stream",
     "text": [
      "C:\\Users\\JSWonner\\AppData\\Local\\Temp\\ipykernel_56020\\2085203665.py:1: DeprecationWarning: Call to deprecated `docvecs` (The `docvecs` property has been renamed `dv`.).\n",
      "  similar_doc = model.docvecs.most_similar('야간비행')\n"
     ]
    },
    {
     "data": {
      "text/html": [
       "<div>\n",
       "<style scoped>\n",
       "    .dataframe tbody tr th:only-of-type {\n",
       "        vertical-align: middle;\n",
       "    }\n",
       "\n",
       "    .dataframe tbody tr th {\n",
       "        vertical-align: top;\n",
       "    }\n",
       "\n",
       "    .dataframe thead th {\n",
       "        text-align: right;\n",
       "    }\n",
       "</style>\n",
       "<table border=\"1\" class=\"dataframe\">\n",
       "  <thead>\n",
       "    <tr style=\"text-align: right;\">\n",
       "      <th></th>\n",
       "      <th>제목</th>\n",
       "      <th>유사도</th>\n",
       "    </tr>\n",
       "  </thead>\n",
       "  <tbody>\n",
       "    <tr>\n",
       "      <th>0</th>\n",
       "      <td>잃어버린 사랑</td>\n",
       "      <td>0.380703</td>\n",
       "    </tr>\n",
       "    <tr>\n",
       "      <th>1</th>\n",
       "      <td>종말일기Z</td>\n",
       "      <td>0.373555</td>\n",
       "    </tr>\n",
       "    <tr>\n",
       "      <th>2</th>\n",
       "      <td>프랑켄슈타인 (한글판) 065</td>\n",
       "      <td>0.372152</td>\n",
       "    </tr>\n",
       "    <tr>\n",
       "      <th>3</th>\n",
       "      <td>피로 만든 사랑</td>\n",
       "      <td>0.370789</td>\n",
       "    </tr>\n",
       "    <tr>\n",
       "      <th>4</th>\n",
       "      <td>어느 하루가 다르다면, 그것은 왜일까</td>\n",
       "      <td>0.370279</td>\n",
       "    </tr>\n",
       "    <tr>\n",
       "      <th>5</th>\n",
       "      <td>월든 (한글판) 031</td>\n",
       "      <td>0.366181</td>\n",
       "    </tr>\n",
       "    <tr>\n",
       "      <th>6</th>\n",
       "      <td>나의 매혹적인 친구</td>\n",
       "      <td>0.366053</td>\n",
       "    </tr>\n",
       "    <tr>\n",
       "      <th>7</th>\n",
       "      <td>서부 전선 이상 없다 - 열린책들 세계문학 67</td>\n",
       "      <td>0.363008</td>\n",
       "    </tr>\n",
       "    <tr>\n",
       "      <th>8</th>\n",
       "      <td>사랑의 기초 연인들</td>\n",
       "      <td>0.360139</td>\n",
       "    </tr>\n",
       "    <tr>\n",
       "      <th>9</th>\n",
       "      <td>왜 나는 너를 사랑하는가(70만 부 기념 리커버)</td>\n",
       "      <td>0.359368</td>\n",
       "    </tr>\n",
       "  </tbody>\n",
       "</table>\n",
       "</div>"
      ],
      "text/plain": [
       "                            제목       유사도\n",
       "0                      잃어버린 사랑  0.380703\n",
       "1                        종말일기Z  0.373555\n",
       "2             프랑켄슈타인 (한글판) 065  0.372152\n",
       "3                     피로 만든 사랑  0.370789\n",
       "4         어느 하루가 다르다면, 그것은 왜일까  0.370279\n",
       "5                 월든 (한글판) 031  0.366181\n",
       "6                   나의 매혹적인 친구  0.366053\n",
       "7   서부 전선 이상 없다 - 열린책들 세계문학 67  0.363008\n",
       "8                   사랑의 기초 연인들  0.360139\n",
       "9  왜 나는 너를 사랑하는가(70만 부 기념 리커버)  0.359368"
      ]
     },
     "execution_count": 58,
     "metadata": {},
     "output_type": "execute_result"
    }
   ],
   "source": [
    "similar_doc = model.docvecs.most_similar('야간비행')\n",
    "pd.DataFrame(similar_doc, columns=[\"제목\", \"유사도\"])"
   ]
  },
  {
   "cell_type": "code",
   "execution_count": null,
   "id": "ccba21a4",
   "metadata": {},
   "outputs": [],
   "source": []
  }
 ],
 "metadata": {
  "kernelspec": {
   "display_name": "Python 3 (ipykernel)",
   "language": "python",
   "name": "python3"
  },
  "language_info": {
   "codemirror_mode": {
    "name": "ipython",
    "version": 3
   },
   "file_extension": ".py",
   "mimetype": "text/x-python",
   "name": "python",
   "nbconvert_exporter": "python",
   "pygments_lexer": "ipython3",
   "version": "3.9.12"
  }
 },
 "nbformat": 4,
 "nbformat_minor": 5
}
