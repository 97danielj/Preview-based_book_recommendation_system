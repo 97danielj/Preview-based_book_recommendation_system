{
 "cells": [
  {
   "cell_type": "code",
   "execution_count": 1,
   "id": "a07ab202",
   "metadata": {},
   "outputs": [],
   "source": [
    "# 라이브러리 가져오기\n",
    "import re\n",
    "import json\n",
    "import numpy as np\n",
    "import pandas as pd"
   ]
  },
  {
   "cell_type": "markdown",
   "id": "5647a640",
   "metadata": {},
   "source": [
    "# 데이터 가져오기"
   ]
  },
  {
   "cell_type": "markdown",
   "id": "b269d957",
   "metadata": {},
   "source": [
    "## 1. 스테디셀러 데이터"
   ]
  },
  {
   "cell_type": "code",
   "execution_count": 2,
   "id": "a5f89f9b",
   "metadata": {},
   "outputs": [],
   "source": [
    "# 데이터 가져오기\n",
    "total_df = pd.read_json(\"../preview_data/yes24_steady.json\")"
   ]
  },
  {
   "cell_type": "code",
   "execution_count": 4,
   "id": "4d9cafe9",
   "metadata": {
    "scrolled": true
   },
   "outputs": [
    {
     "data": {
      "text/html": [
       "<div>\n",
       "<style scoped>\n",
       "    .dataframe tbody tr th:only-of-type {\n",
       "        vertical-align: middle;\n",
       "    }\n",
       "\n",
       "    .dataframe tbody tr th {\n",
       "        vertical-align: top;\n",
       "    }\n",
       "\n",
       "    .dataframe thead th {\n",
       "        text-align: right;\n",
       "    }\n",
       "</style>\n",
       "<table border=\"1\" class=\"dataframe\">\n",
       "  <thead>\n",
       "    <tr style=\"text-align: right;\">\n",
       "      <th></th>\n",
       "      <th>title</th>\n",
       "      <th>preview</th>\n",
       "    </tr>\n",
       "  </thead>\n",
       "  <tbody>\n",
       "    <tr>\n",
       "      <th>0</th>\n",
       "      <td>불편한 편의점</td>\n",
       "      <td></td>\n",
       "    </tr>\n",
       "    <tr>\n",
       "      <th>1</th>\n",
       "      <td>야간비행</td>\n",
       "      <td>항공사에서 다른 운송수단과의 속도 경쟁은 중요한 일이다. 이 책에서 감탄할 만한 책...</td>\n",
       "    </tr>\n",
       "    <tr>\n",
       "      <th>2</th>\n",
       "      <td>밝은 밤</td>\n",
       "      <td></td>\n",
       "    </tr>\n",
       "    <tr>\n",
       "      <th>3</th>\n",
       "      <td>나의 아름다운 이웃 (개정판)</td>\n",
       "      <td></td>\n",
       "    </tr>\n",
       "    <tr>\n",
       "      <th>4</th>\n",
       "      <td>아몬드</td>\n",
       "      <td></td>\n",
       "    </tr>\n",
       "    <tr>\n",
       "      <th>...</th>\n",
       "      <td>...</td>\n",
       "      <td>...</td>\n",
       "    </tr>\n",
       "    <tr>\n",
       "      <th>833</th>\n",
       "      <td>오 헨리 단편선 - 세계문학전집 350</td>\n",
       "      <td></td>\n",
       "    </tr>\n",
       "    <tr>\n",
       "      <th>834</th>\n",
       "      <td>[세트] 그레이의 50가지 그림자 전권 (전6권)</td>\n",
       "      <td></td>\n",
       "    </tr>\n",
       "    <tr>\n",
       "      <th>835</th>\n",
       "      <td>더블린 사람들 - 세계문학전집 307</td>\n",
       "      <td></td>\n",
       "    </tr>\n",
       "    <tr>\n",
       "      <th>836</th>\n",
       "      <td>그 남자네 집</td>\n",
       "      <td></td>\n",
       "    </tr>\n",
       "    <tr>\n",
       "      <th>837</th>\n",
       "      <td>여름에 우리가 먹는 것</td>\n",
       "      <td></td>\n",
       "    </tr>\n",
       "  </tbody>\n",
       "</table>\n",
       "<p>838 rows × 2 columns</p>\n",
       "</div>"
      ],
      "text/plain": [
       "                           title  \\\n",
       "0                        불편한 편의점   \n",
       "1                           야간비행   \n",
       "2                           밝은 밤   \n",
       "3               나의 아름다운 이웃 (개정판)   \n",
       "4                            아몬드   \n",
       "..                           ...   \n",
       "833        오 헨리 단편선 - 세계문학전집 350   \n",
       "834  [세트] 그레이의 50가지 그림자 전권 (전6권)   \n",
       "835         더블린 사람들 - 세계문학전집 307   \n",
       "836                      그 남자네 집   \n",
       "837                 여름에 우리가 먹는 것   \n",
       "\n",
       "                                               preview  \n",
       "0                                                       \n",
       "1    항공사에서 다른 운송수단과의 속도 경쟁은 중요한 일이다. 이 책에서 감탄할 만한 책...  \n",
       "2                                                       \n",
       "3                                                       \n",
       "4                                                       \n",
       "..                                                 ...  \n",
       "833                                                     \n",
       "834                                                     \n",
       "835                                                     \n",
       "836                                                     \n",
       "837                                                     \n",
       "\n",
       "[838 rows x 2 columns]"
      ]
     },
     "execution_count": 4,
     "metadata": {},
     "output_type": "execute_result"
    }
   ],
   "source": [
    "total_df\n",
    "#7774개의 도서 데이터"
   ]
  },
  {
   "cell_type": "markdown",
   "id": "cd124d58",
   "metadata": {},
   "source": [
    "## 2. 일반 목록 데이터 가져오기"
   ]
  },
  {
   "cell_type": "code",
   "execution_count": 7,
   "id": "5bfbcc49",
   "metadata": {},
   "outputs": [],
   "source": [
    "normal_list = ['korean', 'english', 'detector', 'sf', 'history','family','love', 'fairy_tail_for_older', 'from_movie', 'scenario']"
   ]
  },
  {
   "cell_type": "code",
   "execution_count": 9,
   "id": "7905a1a6",
   "metadata": {},
   "outputs": [],
   "source": [
    "target = normal_list[0]\n",
    "for i in range(10,101,10):\n",
    "    total_df = pd.concat([total_df, pd.read_json(f'../preview_data/yes24_normal_{target}_{i}.json')])"
   ]
  },
  {
   "cell_type": "code",
   "execution_count": 10,
   "id": "3e91946b",
   "metadata": {},
   "outputs": [
    {
     "data": {
      "text/plain": [
       "4145"
      ]
     },
     "execution_count": 10,
     "metadata": {},
     "output_type": "execute_result"
    }
   ],
   "source": [
    "len(total_df)"
   ]
  },
  {
   "cell_type": "code",
   "execution_count": 11,
   "id": "2ebd7339",
   "metadata": {},
   "outputs": [],
   "source": [
    "target = normal_list[1]\n",
    "for i in range(10,101,10):\n",
    "    total_df = pd.concat([total_df, pd.read_json(f'../preview_data/yes24_normal_{target}_{i}.json')])"
   ]
  },
  {
   "cell_type": "code",
   "execution_count": 12,
   "id": "33f6bf34",
   "metadata": {},
   "outputs": [
    {
     "data": {
      "text/plain": [
       "7764"
      ]
     },
     "execution_count": 12,
     "metadata": {},
     "output_type": "execute_result"
    }
   ],
   "source": [
    "len(total_df)"
   ]
  },
  {
   "cell_type": "code",
   "execution_count": 13,
   "id": "91408421",
   "metadata": {},
   "outputs": [],
   "source": [
    "target = normal_list[2]\n",
    "for i in range(5,51,5):\n",
    "    total_df = pd.concat([total_df, pd.read_json(f'../preview_data/yes24_normal_{target}_{i}.json')])"
   ]
  },
  {
   "cell_type": "code",
   "execution_count": 14,
   "id": "924418a4",
   "metadata": {},
   "outputs": [
    {
     "data": {
      "text/plain": [
       "9730"
      ]
     },
     "execution_count": 14,
     "metadata": {},
     "output_type": "execute_result"
    }
   ],
   "source": [
    "len(total_df)"
   ]
  },
  {
   "cell_type": "code",
   "execution_count": 15,
   "id": "47ef626f",
   "metadata": {},
   "outputs": [],
   "source": [
    "target = normal_list[3]\n",
    "for i in range(5,41,5):\n",
    "    total_df = pd.concat([total_df, pd.read_json(f'../preview_data/yes24_normal_{target}_{i}.json')])"
   ]
  },
  {
   "cell_type": "code",
   "execution_count": 16,
   "id": "6feeb419",
   "metadata": {},
   "outputs": [],
   "source": [
    "target = normal_list[4]\n",
    "for i in range(5,11,5):\n",
    "    total_df = pd.concat([total_df, pd.read_json(f'../preview_data/yes24_normal_{target}_{i}.json')])"
   ]
  },
  {
   "cell_type": "code",
   "execution_count": 17,
   "id": "1dcfe9ee",
   "metadata": {},
   "outputs": [
    {
     "data": {
      "text/plain": [
       "11704"
      ]
     },
     "execution_count": 17,
     "metadata": {},
     "output_type": "execute_result"
    }
   ],
   "source": [
    "len(total_df)"
   ]
  },
  {
   "cell_type": "code",
   "execution_count": 18,
   "id": "5e41dbb9",
   "metadata": {},
   "outputs": [],
   "source": [
    "target = normal_list[5]\n",
    "total_df = pd.concat([total_df, pd.read_json(f'../preview_data/yes24_normal_{target}_last.json')])"
   ]
  },
  {
   "cell_type": "code",
   "execution_count": 19,
   "id": "498412fc",
   "metadata": {},
   "outputs": [
    {
     "data": {
      "text/plain": [
       "11818"
      ]
     },
     "execution_count": 19,
     "metadata": {},
     "output_type": "execute_result"
    }
   ],
   "source": [
    "len(total_df)"
   ]
  },
  {
   "cell_type": "code",
   "execution_count": 21,
   "id": "731419fe",
   "metadata": {},
   "outputs": [
    {
     "name": "stdout",
     "output_type": "stream",
     "text": [
      "love\n"
     ]
    }
   ],
   "source": [
    "target = normal_list[6]\n",
    "print(target)\n",
    "total_df = pd.concat([total_df, pd.read_json(f'../preview_data/yes24_normal_{target}_5.json')])\n",
    "total_df = pd.concat([total_df, pd.read_json(f'../preview_data/yes24_normal_{target}_last.json')])"
   ]
  },
  {
   "cell_type": "code",
   "execution_count": 22,
   "id": "fe0692d8",
   "metadata": {},
   "outputs": [
    {
     "name": "stdout",
     "output_type": "stream",
     "text": [
      "fairy_tail_for_older\n"
     ]
    }
   ],
   "source": [
    "target = normal_list[7]\n",
    "print(target)\n",
    "for i in range(5,11,5):\n",
    "    total_df = pd.concat([total_df, pd.read_json(f'../preview_data/yes24_normal_{target}_{i}.json')])"
   ]
  },
  {
   "cell_type": "code",
   "execution_count": 23,
   "id": "9f45a78c",
   "metadata": {},
   "outputs": [
    {
     "name": "stdout",
     "output_type": "stream",
     "text": [
      "from_movie\n"
     ]
    }
   ],
   "source": [
    "target = normal_list[8]\n",
    "print(target)\n",
    "total_df = pd.concat([total_df, pd.read_json(f'../preview_data/yes24_normal_{target}_5.json')])\n",
    "total_df = pd.concat([total_df, pd.read_json(f'../preview_data/yes24_normal_{target}_last.json')])"
   ]
  },
  {
   "cell_type": "code",
   "execution_count": 24,
   "id": "4f5d0637",
   "metadata": {},
   "outputs": [
    {
     "name": "stdout",
     "output_type": "stream",
     "text": [
      "scenario\n"
     ]
    }
   ],
   "source": [
    "target = normal_list[9]\n",
    "print(target)\n",
    "for i in range(5,11,5):\n",
    "    total_df = pd.concat([total_df, pd.read_json(f'../preview_data/yes24_normal_{target}_{i}.json')])\n",
    "total_df = pd.concat([total_df, pd.read_json(f'../preview_data/yes24_normal_{target}_last.json')])"
   ]
  },
  {
   "cell_type": "code",
   "execution_count": 26,
   "id": "824d50d2",
   "metadata": {},
   "outputs": [
    {
     "data": {
      "text/plain": [
       "13132"
      ]
     },
     "execution_count": 26,
     "metadata": {},
     "output_type": "execute_result"
    }
   ],
   "source": [
    "len(total_df)"
   ]
  },
  {
   "cell_type": "markdown",
   "id": "ff9a1bf8",
   "metadata": {},
   "source": [
    "## 프리뷰 전처리"
   ]
  },
  {
   "cell_type": "code",
   "execution_count": 27,
   "id": "9ca72659",
   "metadata": {},
   "outputs": [],
   "source": [
    "# 한국어와 공백이 아닌 모든 문자를 공백으로 바꾼다.\n",
    "total_df.preview = total_df.preview.str.replace(r\"[^가-힣 \\s]\", \" \", regex=True)\n",
    "\n",
    "# 여러개의 공백을 하나의 공백으로 바꾼다\n",
    "total_df.preview = total_df.preview.str.replace(r\"\\s+\", \" \", regex=True)\n",
    "\n",
    "# 문장 앞 뒤의 공백을 제거한다\n",
    "total_df.preview = total_df.preview.str.strip()\n",
    "\n",
    "# 빈 공백을 nan 으로 바꾼다\n",
    "total_df.preview = total_df.preview.replace(\"\", np.nan)\n",
    "\n",
    "# 결측치 제거\n",
    "df = total_df.dropna()"
   ]
  },
  {
   "cell_type": "code",
   "execution_count": 28,
   "id": "92e58220",
   "metadata": {},
   "outputs": [
    {
     "data": {
      "text/html": [
       "<div>\n",
       "<style scoped>\n",
       "    .dataframe tbody tr th:only-of-type {\n",
       "        vertical-align: middle;\n",
       "    }\n",
       "\n",
       "    .dataframe tbody tr th {\n",
       "        vertical-align: top;\n",
       "    }\n",
       "\n",
       "    .dataframe thead th {\n",
       "        text-align: right;\n",
       "    }\n",
       "</style>\n",
       "<table border=\"1\" class=\"dataframe\">\n",
       "  <thead>\n",
       "    <tr style=\"text-align: right;\">\n",
       "      <th></th>\n",
       "      <th>title</th>\n",
       "      <th>preview</th>\n",
       "    </tr>\n",
       "  </thead>\n",
       "  <tbody>\n",
       "    <tr>\n",
       "      <th>1</th>\n",
       "      <td>야간비행</td>\n",
       "      <td>항공사에서 다른 운송수단과의 속도 경쟁은 중요한 일이다 이 책에서 감탄할 만한 책임...</td>\n",
       "    </tr>\n",
       "    <tr>\n",
       "      <th>7</th>\n",
       "      <td>친밀한 이방인</td>\n",
       "      <td>지난 월 나는 신문을 읽다가 흥미로운 광고를 보았다 이 책을 쓴 사람을 찾습니다 라...</td>\n",
       "    </tr>\n",
       "    <tr>\n",
       "      <th>8</th>\n",
       "      <td>지구 끝의 온실</td>\n",
       "      <td>낡은 차가 덜컹거리며 오르막 흙길 앞에 멈춰 섰다 끊겨 있는 나무 계단 낡은 이정표...</td>\n",
       "    </tr>\n",
       "    <tr>\n",
       "      <th>9</th>\n",
       "      <td>벼랑 위의 집</td>\n",
       "      <td>발행일 년 월 일 지은이 클룬 옮긴이 송섬별 펴낸이 김석원 펴낸곳 도서출판 든 출판...</td>\n",
       "    </tr>\n",
       "    <tr>\n",
       "      <th>11</th>\n",
       "      <td>미드나잇 라이브러리</td>\n",
       "      <td>죽기로 결심하기 년 전 노라 시드는 베드퍼드에 있는 헤이즐딘 스쿨의 아늑하고 작은 ...</td>\n",
       "    </tr>\n",
       "    <tr>\n",
       "      <th>...</th>\n",
       "      <td>...</td>\n",
       "      <td>...</td>\n",
       "    </tr>\n",
       "    <tr>\n",
       "      <th>35</th>\n",
       "      <td>대머리 록커</td>\n",
       "      <td>최유정 교도소 미용사 연출 대머리 록커 시나리오 원로작가 스토리 회원작가 스토리 멘...</td>\n",
       "    </tr>\n",
       "    <tr>\n",
       "      <th>36</th>\n",
       "      <td>페어 웰</td>\n",
       "      <td>조다연 단편 영화 가짜조폭 서비스맨 과 단편 애니메이션 도망쳐 스티로폼 연출 성균관...</td>\n",
       "    </tr>\n",
       "    <tr>\n",
       "      <th>37</th>\n",
       "      <td>다이어트 팩토리</td>\n",
       "      <td>조수연 한국예술종합학교 영화과 시나리오 전공 원로작가 스토리 회원작가 스토리 멘토링...</td>\n",
       "    </tr>\n",
       "    <tr>\n",
       "      <th>38</th>\n",
       "      <td>오프셋</td>\n",
       "      <td>최범석 중앙대학교 문예창작학과 졸업 원로작가 스토리 회원작가 스토리 멘토링 완성작 ...</td>\n",
       "    </tr>\n",
       "    <tr>\n",
       "      <th>39</th>\n",
       "      <td>히든 키친</td>\n",
       "      <td>한예림 한예림 세상에 사랑과 정의가 있다고 말하고 싶은 작가입니다 장르는 로맨스 코...</td>\n",
       "    </tr>\n",
       "  </tbody>\n",
       "</table>\n",
       "<p>6152 rows × 2 columns</p>\n",
       "</div>"
      ],
      "text/plain": [
       "         title                                            preview\n",
       "1         야간비행  항공사에서 다른 운송수단과의 속도 경쟁은 중요한 일이다 이 책에서 감탄할 만한 책임...\n",
       "7      친밀한 이방인  지난 월 나는 신문을 읽다가 흥미로운 광고를 보았다 이 책을 쓴 사람을 찾습니다 라...\n",
       "8     지구 끝의 온실  낡은 차가 덜컹거리며 오르막 흙길 앞에 멈춰 섰다 끊겨 있는 나무 계단 낡은 이정표...\n",
       "9      벼랑 위의 집  발행일 년 월 일 지은이 클룬 옮긴이 송섬별 펴낸이 김석원 펴낸곳 도서출판 든 출판...\n",
       "11  미드나잇 라이브러리  죽기로 결심하기 년 전 노라 시드는 베드퍼드에 있는 헤이즐딘 스쿨의 아늑하고 작은 ...\n",
       "..         ...                                                ...\n",
       "35      대머리 록커  최유정 교도소 미용사 연출 대머리 록커 시나리오 원로작가 스토리 회원작가 스토리 멘...\n",
       "36        페어 웰  조다연 단편 영화 가짜조폭 서비스맨 과 단편 애니메이션 도망쳐 스티로폼 연출 성균관...\n",
       "37    다이어트 팩토리  조수연 한국예술종합학교 영화과 시나리오 전공 원로작가 스토리 회원작가 스토리 멘토링...\n",
       "38         오프셋  최범석 중앙대학교 문예창작학과 졸업 원로작가 스토리 회원작가 스토리 멘토링 완성작 ...\n",
       "39       히든 키친  한예림 한예림 세상에 사랑과 정의가 있다고 말하고 싶은 작가입니다 장르는 로맨스 코...\n",
       "\n",
       "[6152 rows x 2 columns]"
      ]
     },
     "execution_count": 28,
     "metadata": {},
     "output_type": "execute_result"
    }
   ],
   "source": [
    "df\n",
    "## 1506개로 줄어든다."
   ]
  },
  {
   "cell_type": "markdown",
   "id": "d0ffe205",
   "metadata": {},
   "source": [
    "## 타이틀 전처리"
   ]
  },
  {
   "cell_type": "code",
   "execution_count": 29,
   "id": "69f7bf1d",
   "metadata": {},
   "outputs": [
    {
     "name": "stderr",
     "output_type": "stream",
     "text": [
      "C:\\Users\\DanielJeong\\AppData\\Local\\Temp\\ipykernel_9788\\1579629539.py:2: SettingWithCopyWarning: \n",
      "A value is trying to be set on a copy of a slice from a DataFrame.\n",
      "Try using .loc[row_indexer,col_indexer] = value instead\n",
      "\n",
      "See the caveats in the documentation: https://pandas.pydata.org/pandas-docs/stable/user_guide/indexing.html#returning-a-view-versus-a-copy\n",
      "  df.title = df.title.str.replace(r\"\\[.+\\]\", \"\", regex=True)\n",
      "C:\\Users\\DanielJeong\\AppData\\Local\\Temp\\ipykernel_9788\\1579629539.py:5: SettingWithCopyWarning: \n",
      "A value is trying to be set on a copy of a slice from a DataFrame.\n",
      "Try using .loc[row_indexer,col_indexer] = value instead\n",
      "\n",
      "See the caveats in the documentation: https://pandas.pydata.org/pandas-docs/stable/user_guide/indexing.html#returning-a-view-versus-a-copy\n",
      "  df.title = df.title.str.replace(r\"\\s+\", \" \", regex=True)\n",
      "C:\\Users\\DanielJeong\\AppData\\Local\\Temp\\ipykernel_9788\\1579629539.py:8: SettingWithCopyWarning: \n",
      "A value is trying to be set on a copy of a slice from a DataFrame.\n",
      "Try using .loc[row_indexer,col_indexer] = value instead\n",
      "\n",
      "See the caveats in the documentation: https://pandas.pydata.org/pandas-docs/stable/user_guide/indexing.html#returning-a-view-versus-a-copy\n",
      "  df.title = df.title.str.strip()\n"
     ]
    }
   ],
   "source": [
    "# 대괄호 내부에 문자를 제거한다\n",
    "df.title = df.title.str.replace(r\"\\[.+\\]\", \"\", regex=True)\n",
    "\n",
    "# 여러개의 공백을 하나의 공백으로 바꾼다\n",
    "df.title = df.title.str.replace(r\"\\s+\", \" \", regex=True)\n",
    "\n",
    "# 문장 앞 뒤의 공백을 제거한다\n",
    "df.title = df.title.str.strip()\n",
    "\n",
    "# 제목 중복을 제거한다\n",
    "df = df.drop_duplicates([\"title\"])\n",
    "\n",
    "# 미리보기 중복을 제거한다\n",
    "df = df.drop_duplicates([\"preview\"])"
   ]
  },
  {
   "cell_type": "code",
   "execution_count": 30,
   "id": "1c5e2a84",
   "metadata": {},
   "outputs": [],
   "source": [
    "# 1000자 미만 삭제\n",
    "df = df[df.preview.str.len() > 1000]"
   ]
  },
  {
   "cell_type": "code",
   "execution_count": 31,
   "id": "491ab247",
   "metadata": {},
   "outputs": [],
   "source": [
    "# 인덱스를 재설정한다.\n",
    "df = df.reset_index(drop=True, inplace=False)"
   ]
  },
  {
   "cell_type": "code",
   "execution_count": 33,
   "id": "69a0acdd",
   "metadata": {},
   "outputs": [
    {
     "data": {
      "text/html": [
       "<div>\n",
       "<style scoped>\n",
       "    .dataframe tbody tr th:only-of-type {\n",
       "        vertical-align: middle;\n",
       "    }\n",
       "\n",
       "    .dataframe tbody tr th {\n",
       "        vertical-align: top;\n",
       "    }\n",
       "\n",
       "    .dataframe thead th {\n",
       "        text-align: right;\n",
       "    }\n",
       "</style>\n",
       "<table border=\"1\" class=\"dataframe\">\n",
       "  <thead>\n",
       "    <tr style=\"text-align: right;\">\n",
       "      <th></th>\n",
       "      <th>title</th>\n",
       "      <th>preview</th>\n",
       "    </tr>\n",
       "  </thead>\n",
       "  <tbody>\n",
       "    <tr>\n",
       "      <th>0</th>\n",
       "      <td>야간비행</td>\n",
       "      <td>항공사에서 다른 운송수단과의 속도 경쟁은 중요한 일이다 이 책에서 감탄할 만한 책임...</td>\n",
       "    </tr>\n",
       "    <tr>\n",
       "      <th>1</th>\n",
       "      <td>친밀한 이방인</td>\n",
       "      <td>지난 월 나는 신문을 읽다가 흥미로운 광고를 보았다 이 책을 쓴 사람을 찾습니다 라...</td>\n",
       "    </tr>\n",
       "    <tr>\n",
       "      <th>2</th>\n",
       "      <td>지구 끝의 온실</td>\n",
       "      <td>낡은 차가 덜컹거리며 오르막 흙길 앞에 멈춰 섰다 끊겨 있는 나무 계단 낡은 이정표...</td>\n",
       "    </tr>\n",
       "    <tr>\n",
       "      <th>3</th>\n",
       "      <td>벼랑 위의 집</td>\n",
       "      <td>발행일 년 월 일 지은이 클룬 옮긴이 송섬별 펴낸이 김석원 펴낸곳 도서출판 든 출판...</td>\n",
       "    </tr>\n",
       "    <tr>\n",
       "      <th>4</th>\n",
       "      <td>미드나잇 라이브러리</td>\n",
       "      <td>죽기로 결심하기 년 전 노라 시드는 베드퍼드에 있는 헤이즐딘 스쿨의 아늑하고 작은 ...</td>\n",
       "    </tr>\n",
       "    <tr>\n",
       "      <th>...</th>\n",
       "      <td>...</td>\n",
       "      <td>...</td>\n",
       "    </tr>\n",
       "    <tr>\n",
       "      <th>4427</th>\n",
       "      <td>낙타는 따로 울지 않는다</td>\n",
       "      <td>지상학 년 충북 충주 출생 년 애니메이션 로보트 태권 데뷔 년 동아일보 신춘문예 시...</td>\n",
       "    </tr>\n",
       "    <tr>\n",
       "      <th>4428</th>\n",
       "      <td>구름은 흘러도</td>\n",
       "      <td>김지헌 평안남도 진남포 태생인 김지헌은 해방 이전에 서울로 이주하여 경동중학교를 다...</td>\n",
       "    </tr>\n",
       "    <tr>\n",
       "      <th>4429</th>\n",
       "      <td>갯마을</td>\n",
       "      <td>신봉승 년 월 일 강원도에서 태어났다 강릉초등학교 강릉사범학교 를 졸업하고 향리에서...</td>\n",
       "    </tr>\n",
       "    <tr>\n",
       "      <th>4430</th>\n",
       "      <td>페어 웰</td>\n",
       "      <td>조다연 단편 영화 가짜조폭 서비스맨 과 단편 애니메이션 도망쳐 스티로폼 연출 성균관...</td>\n",
       "    </tr>\n",
       "    <tr>\n",
       "      <th>4431</th>\n",
       "      <td>오프셋</td>\n",
       "      <td>최범석 중앙대학교 문예창작학과 졸업 원로작가 스토리 회원작가 스토리 멘토링 완성작 ...</td>\n",
       "    </tr>\n",
       "  </tbody>\n",
       "</table>\n",
       "<p>4432 rows × 2 columns</p>\n",
       "</div>"
      ],
      "text/plain": [
       "              title                                            preview\n",
       "0              야간비행  항공사에서 다른 운송수단과의 속도 경쟁은 중요한 일이다 이 책에서 감탄할 만한 책임...\n",
       "1           친밀한 이방인  지난 월 나는 신문을 읽다가 흥미로운 광고를 보았다 이 책을 쓴 사람을 찾습니다 라...\n",
       "2          지구 끝의 온실  낡은 차가 덜컹거리며 오르막 흙길 앞에 멈춰 섰다 끊겨 있는 나무 계단 낡은 이정표...\n",
       "3           벼랑 위의 집  발행일 년 월 일 지은이 클룬 옮긴이 송섬별 펴낸이 김석원 펴낸곳 도서출판 든 출판...\n",
       "4        미드나잇 라이브러리  죽기로 결심하기 년 전 노라 시드는 베드퍼드에 있는 헤이즐딘 스쿨의 아늑하고 작은 ...\n",
       "...             ...                                                ...\n",
       "4427  낙타는 따로 울지 않는다  지상학 년 충북 충주 출생 년 애니메이션 로보트 태권 데뷔 년 동아일보 신춘문예 시...\n",
       "4428        구름은 흘러도  김지헌 평안남도 진남포 태생인 김지헌은 해방 이전에 서울로 이주하여 경동중학교를 다...\n",
       "4429            갯마을  신봉승 년 월 일 강원도에서 태어났다 강릉초등학교 강릉사범학교 를 졸업하고 향리에서...\n",
       "4430           페어 웰  조다연 단편 영화 가짜조폭 서비스맨 과 단편 애니메이션 도망쳐 스티로폼 연출 성균관...\n",
       "4431            오프셋  최범석 중앙대학교 문예창작학과 졸업 원로작가 스토리 회원작가 스토리 멘토링 완성작 ...\n",
       "\n",
       "[4432 rows x 2 columns]"
      ]
     },
     "execution_count": 33,
     "metadata": {},
     "output_type": "execute_result"
    }
   ],
   "source": [
    "df"
   ]
  },
  {
   "cell_type": "markdown",
   "id": "3b1eb08e",
   "metadata": {},
   "source": [
    "# 명사 형태소 분석"
   ]
  },
  {
   "cell_type": "code",
   "execution_count": 34,
   "id": "ecdbcc51",
   "metadata": {},
   "outputs": [],
   "source": [
    "# 라이브러리 가져오기\n",
    "from tqdm.auto import tqdm\n",
    "from konlpy.tag import Mecab\n",
    "\n",
    "# 미캡 객체 생성\n",
    "tagger = Mecab(dicpath=r\"C:\\mecab\\mecab-ko-dic\")"
   ]
  },
  {
   "cell_type": "code",
   "execution_count": 35,
   "id": "2153762e",
   "metadata": {},
   "outputs": [
    {
     "data": {
      "application/vnd.jupyter.widget-view+json": {
       "model_id": "a6914e0e06e14a0dae459a8651a420e1",
       "version_major": 2,
       "version_minor": 0
      },
      "text/plain": [
       "  0%|          | 0/4432 [00:00<?, ?it/s]"
      ]
     },
     "metadata": {},
     "output_type": "display_data"
    }
   ],
   "source": [
    "# 분석할 데이터 담을 변수\n",
    "analyzed_data = []\n",
    "\n",
    "# 미리보기 데이터 조회\n",
    "for preview in tqdm(df.preview):\n",
    "    \n",
    "    # 명사만 추출\n",
    "    tag_result = tagger.nouns(preview)\n",
    "    \n",
    "    # 각 단어를 공백을 사이에 두고 하나로 합침\n",
    "    result = \" \".join(tag_result)\n",
    "\n",
    "    # 데이터를 변수에 담음\n",
    "    analyzed_data.append(result)"
   ]
  },
  {
   "cell_type": "markdown",
   "id": "b99c4479",
   "metadata": {},
   "source": [
    "# TF-IDF유사도 분석"
   ]
  },
  {
   "cell_type": "code",
   "execution_count": 36,
   "id": "3c162b1a",
   "metadata": {},
   "outputs": [],
   "source": [
    "from sklearn.feature_extraction.text import TfidfVectorizer"
   ]
  },
  {
   "cell_type": "code",
   "execution_count": 37,
   "id": "223ad619",
   "metadata": {},
   "outputs": [
    {
     "name": "stdout",
     "output_type": "stream",
     "text": [
      "TF-IDF 행렬의 크기(shape) : (4432, 89441)\n"
     ]
    }
   ],
   "source": [
    "# TF-IDF를 벡터로 분석\n",
    "#analyzed_data는 TDM이ㅏㄷ. \n",
    "tfidf_matrix = TfidfVectorizer().fit_transform(analyzed_data)\n",
    "print('TF-IDF 행렬의 크기(shape) :', tfidf_matrix.shape)"
   ]
  },
  {
   "cell_type": "code",
   "execution_count": 38,
   "id": "9cbc8064",
   "metadata": {},
   "outputs": [],
   "source": [
    "#4432개의 도서 문서에 89,441개의 단어가 사용"
   ]
  },
  {
   "cell_type": "code",
   "execution_count": 39,
   "id": "817a012c",
   "metadata": {},
   "outputs": [],
   "source": [
    "from sklearn.metrics.pairwise import cosine_similarity"
   ]
  },
  {
   "cell_type": "code",
   "execution_count": 40,
   "id": "08812d62",
   "metadata": {},
   "outputs": [
    {
     "name": "stdout",
     "output_type": "stream",
     "text": [
      "코사인 유사도 연산 결과 : (4432, 4432)\n"
     ]
    }
   ],
   "source": [
    "# TF-IDF 벡터의 cosine 유사도 계산\n",
    "cosine_sim = cosine_similarity(tfidf_matrix, tfidf_matrix)\n",
    "print('코사인 유사도 연산 결과 :' ,cosine_sim.shape)"
   ]
  },
  {
   "cell_type": "code",
   "execution_count": 41,
   "id": "44c4c4a2",
   "metadata": {},
   "outputs": [],
   "source": [
    "# 제목을 TF-IDF 안의 인덱스로 변환하기 위한 준비\n",
    "title_to_index = dict(zip(df['title'], df.index))"
   ]
  },
  {
   "cell_type": "code",
   "execution_count": 45,
   "id": "b2a3df98",
   "metadata": {},
   "outputs": [
    {
     "data": {
      "text/plain": [
       "0"
      ]
     },
     "execution_count": 45,
     "metadata": {},
     "output_type": "execute_result"
    }
   ],
   "source": [
    "title_to_index['야간비행']"
   ]
  },
  {
   "cell_type": "code",
   "execution_count": 46,
   "id": "dd762cf5",
   "metadata": {},
   "outputs": [],
   "source": [
    "def get_recommendations(title, cosine_sim=cosine_sim):\n",
    "    # 선택한 소설의 타이틀로부터 해당 소설의 인덱스를 받아온다.\n",
    "    idx = title_to_index[title]\n",
    "\n",
    "    # 해당 소설과 모든 소설과의 유사도를 가져온다.\n",
    "    sim_scores = list(enumerate(cosine_sim[idx]))\n",
    "    \n",
    "    # 유사도에 따라 소설들을 정렬한다.\n",
    "    sim_scores = sorted(sim_scores, key=lambda x: x[1], reverse=True)\n",
    "\n",
    "    # 가장 유사한 10개의 소설을 받아온다.\n",
    "    sim_scores = sim_scores[1:11]\n",
    "    \n",
    "    # 가장 유사한 10개의 소설의 인덱스를 얻는다.\n",
    "    novel_indices = [idx[0] for idx in sim_scores]\n",
    "    \n",
    "    # 가장 유사한 10개의 소설의 제목을 리턴한다.\n",
    "    # 인덱스 리스트에서 제목 리스트로 변환한다.\n",
    "    title_list = df['title'].iloc[novel_indices]\n",
    "    # 소숫점 유사도를 퍼센트로 변환한다.\n",
    "    score_list = [round(score[1], 3) * 100 for score in sim_scores]\n",
    "    # 보기 편하도록 데이터 프레임으로 바꿔 반환한다.\n",
    "    return pd.DataFrame({\"제목\": title_list, \"score\": score_list})"
   ]
  },
  {
   "cell_type": "markdown",
   "id": "b3d8bebc",
   "metadata": {},
   "source": [
    "# TF-IDF 예시"
   ]
  },
  {
   "cell_type": "code",
   "execution_count": 48,
   "id": "2b80d830",
   "metadata": {},
   "outputs": [
    {
     "data": {
      "text/html": [
       "<div>\n",
       "<style scoped>\n",
       "    .dataframe tbody tr th:only-of-type {\n",
       "        vertical-align: middle;\n",
       "    }\n",
       "\n",
       "    .dataframe tbody tr th {\n",
       "        vertical-align: top;\n",
       "    }\n",
       "\n",
       "    .dataframe thead th {\n",
       "        text-align: right;\n",
       "    }\n",
       "</style>\n",
       "<table border=\"1\" class=\"dataframe\">\n",
       "  <thead>\n",
       "    <tr style=\"text-align: right;\">\n",
       "      <th></th>\n",
       "      <th>제목</th>\n",
       "      <th>score</th>\n",
       "    </tr>\n",
       "  </thead>\n",
       "  <tbody>\n",
       "    <tr>\n",
       "      <th>1154</th>\n",
       "      <td>월든 (한글판) 031</td>\n",
       "      <td>15.0</td>\n",
       "    </tr>\n",
       "    <tr>\n",
       "      <th>2684</th>\n",
       "      <td>코난 도일 호러 걸작선 (개정 증보판)</td>\n",
       "      <td>14.4</td>\n",
       "    </tr>\n",
       "    <tr>\n",
       "      <th>1477</th>\n",
       "      <td>프랑켄슈타인 - 문예 세계문학선 062</td>\n",
       "      <td>12.6</td>\n",
       "    </tr>\n",
       "    <tr>\n",
       "      <th>2224</th>\n",
       "      <td>젊은 베르테르의 슬픔</td>\n",
       "      <td>12.6</td>\n",
       "    </tr>\n",
       "    <tr>\n",
       "      <th>3962</th>\n",
       "      <td>에어홀릭 Airholic</td>\n",
       "      <td>12.2</td>\n",
       "    </tr>\n",
       "    <tr>\n",
       "      <th>1098</th>\n",
       "      <td>프랑켄슈타인 (한글판) 065</td>\n",
       "      <td>12.2</td>\n",
       "    </tr>\n",
       "    <tr>\n",
       "      <th>3966</th>\n",
       "      <td>젊은 베르테르의 슬픔 - 세계문학전집 025</td>\n",
       "      <td>12.1</td>\n",
       "    </tr>\n",
       "    <tr>\n",
       "      <th>4020</th>\n",
       "      <td>젊은베르터의 고통</td>\n",
       "      <td>11.5</td>\n",
       "    </tr>\n",
       "    <tr>\n",
       "      <th>1083</th>\n",
       "      <td>프랑켄슈타인 (한글+영문)</td>\n",
       "      <td>11.5</td>\n",
       "    </tr>\n",
       "    <tr>\n",
       "      <th>1648</th>\n",
       "      <td>하루 하루가 세상의 종말 3</td>\n",
       "      <td>11.5</td>\n",
       "    </tr>\n",
       "  </tbody>\n",
       "</table>\n",
       "</div>"
      ],
      "text/plain": [
       "                            제목  score\n",
       "1154              월든 (한글판) 031   15.0\n",
       "2684     코난 도일 호러 걸작선 (개정 증보판)   14.4\n",
       "1477     프랑켄슈타인 - 문예 세계문학선 062   12.6\n",
       "2224               젊은 베르테르의 슬픔   12.6\n",
       "3962             에어홀릭 Airholic   12.2\n",
       "1098          프랑켄슈타인 (한글판) 065   12.2\n",
       "3966  젊은 베르테르의 슬픔 - 세계문학전집 025   12.1\n",
       "4020                 젊은베르터의 고통   11.5\n",
       "1083            프랑켄슈타인 (한글+영문)   11.5\n",
       "1648           하루 하루가 세상의 종말 3   11.5"
      ]
     },
     "execution_count": 48,
     "metadata": {},
     "output_type": "execute_result"
    }
   ],
   "source": [
    "# 제목으로 검색\n",
    "get_recommendations('야간비행')"
   ]
  },
  {
   "cell_type": "markdown",
   "id": "00c015a2",
   "metadata": {},
   "source": [
    "# 형태소 전체 분석"
   ]
  },
  {
   "cell_type": "code",
   "execution_count": 49,
   "id": "c39447ca",
   "metadata": {},
   "outputs": [],
   "source": [
    "# 라이브러리 가져오기\n",
    "from tqdm.auto import tqdm\n",
    "from konlpy.tag import Mecab\n",
    "from gensim.models.doc2vec import TaggedDocument\n",
    "\n",
    "\n",
    "tagger = Mecab(dicpath=r\"C:\\mecab\\mecab-ko-dic\")"
   ]
  },
  {
   "cell_type": "code",
   "execution_count": 50,
   "id": "27d9dd99",
   "metadata": {},
   "outputs": [
    {
     "data": {
      "application/vnd.jupyter.widget-view+json": {
       "model_id": "c676091e1cea476180005baf893417cf",
       "version_major": 2,
       "version_minor": 0
      },
      "text/plain": [
       "  0%|          | 0/4432 [00:00<?, ?it/s]"
      ]
     },
     "metadata": {},
     "output_type": "display_data"
    },
    {
     "name": "stdout",
     "output_type": "stream",
     "text": [
      "문서의 수 : 4432\n"
     ]
    }
   ],
   "source": [
    "tagged_corpus_list = []\n",
    "\n",
    "# 한 행씩 순환\n",
    "for index, row in tqdm(df.iterrows(), total=len(df)):\n",
    "    preview = row['preview']\n",
    "    title = row['title']\n",
    "    \n",
    "    # 문장을 형태소로 자름\n",
    "    words = tagger.morphs(preview)\n",
    "    \n",
    "    # 각 행을 문서 객체로 변환\n",
    "    td = TaggedDocument(tags=[title], words=words)\n",
    "    \n",
    "    # 데이터를 변수에 담음\n",
    "    tagged_corpus_list.append(td)\n",
    "\n",
    "print('문서의 수 :', len(tagged_corpus_list))"
   ]
  },
  {
   "cell_type": "markdown",
   "id": "05328792",
   "metadata": {},
   "source": [
    "# Doc2Vec 모델 학습 + 저장"
   ]
  },
  {
   "cell_type": "code",
   "execution_count": 56,
   "id": "ae7de85f",
   "metadata": {},
   "outputs": [],
   "source": [
    "from gensim.models import doc2vec"
   ]
  },
  {
   "cell_type": "code",
   "execution_count": 55,
   "id": "936e37cd",
   "metadata": {},
   "outputs": [
    {
     "name": "stdout",
     "output_type": "stream",
     "text": [
      "Requirement already satisfied: gensim in c:\\programdata\\anaconda3\\lib\\site-packages (4.2.0)\n",
      "Requirement already satisfied: smart-open>=1.8.1 in c:\\programdata\\anaconda3\\lib\\site-packages (from gensim) (5.2.1)\n",
      "Requirement already satisfied: scipy>=0.18.1 in c:\\programdata\\anaconda3\\lib\\site-packages (from gensim) (1.9.3)\n",
      "Requirement already satisfied: numpy>=1.17.0 in c:\\programdata\\anaconda3\\lib\\site-packages (from gensim) (1.22.3)\n"
     ]
    },
    {
     "name": "stderr",
     "output_type": "stream",
     "text": [
      "WARNING: Ignoring invalid distribution -rotobuf (c:\\programdata\\anaconda3\\lib\\site-packages)\n",
      "WARNING: Ignoring invalid distribution -rotobuf (c:\\programdata\\anaconda3\\lib\\site-packages)\n",
      "WARNING: Ignoring invalid distribution -rotobuf (c:\\programdata\\anaconda3\\lib\\site-packages)\n",
      "WARNING: Ignoring invalid distribution -rotobuf (c:\\programdata\\anaconda3\\lib\\site-packages)\n",
      "\n",
      "[notice] A new release of pip available: 22.2.2 -> 22.3.1\n",
      "[notice] To update, run: C:\\ProgramData\\Anaconda3\\python.exe -m pip install --upgrade pip\n"
     ]
    }
   ],
   "source": [
    "!pip install --upgrade gensim"
   ]
  },
  {
   "cell_type": "code",
   "execution_count": 65,
   "id": "a07ceb61",
   "metadata": {},
   "outputs": [
    {
     "name": "stdout",
     "output_type": "stream",
     "text": [
      "Tag Size: 4432 / "
     ]
    }
   ],
   "source": [
    "model = doc2vec.Doc2Vec(vector_size=300, alpha=0.025, min_alpha=0.025, workers=4, window=8)\n",
    "\n",
    "# Vocabulary 빌드(데이터 주입)\n",
    "model.build_vocab(tagged_corpus_list)\n",
    "print(f\"Tag Size: {len(model.dv.index_to_key)}\", end=' / ')\n",
    "\n",
    "# Doc2Vec 학습\n",
    "model.train(tagged_corpus_list, total_examples=model.corpus_count, epochs=50)\n",
    "\n",
    "# 모델 저장\n",
    "model.save('./dart.doc2vec')"
   ]
  },
  {
   "cell_type": "markdown",
   "id": "4e7eac14",
   "metadata": {},
   "source": [
    "# 저장한 모델을 불러옴\n",
    "gensim 버전이 다르면 불러오지 못함"
   ]
  },
  {
   "cell_type": "code",
   "execution_count": 66,
   "id": "a9745baf",
   "metadata": {},
   "outputs": [],
   "source": [
    "model = doc2vec.Doc2Vec.load(\"dart.doc2vec\")"
   ]
  },
  {
   "cell_type": "markdown",
   "id": "8ba0dd49",
   "metadata": {},
   "source": [
    "# Doc2Vec 예시"
   ]
  },
  {
   "cell_type": "code",
   "execution_count": 68,
   "id": "f41517a5",
   "metadata": {},
   "outputs": [
    {
     "name": "stderr",
     "output_type": "stream",
     "text": [
      "C:\\Users\\DanielJeong\\AppData\\Local\\Temp\\ipykernel_9788\\2085203665.py:1: DeprecationWarning: Call to deprecated `docvecs` (The `docvecs` property has been renamed `dv`.).\n",
      "  similar_doc = model.docvecs.most_similar('야간비행')\n"
     ]
    },
    {
     "data": {
      "text/html": [
       "<div>\n",
       "<style scoped>\n",
       "    .dataframe tbody tr th:only-of-type {\n",
       "        vertical-align: middle;\n",
       "    }\n",
       "\n",
       "    .dataframe tbody tr th {\n",
       "        vertical-align: top;\n",
       "    }\n",
       "\n",
       "    .dataframe thead th {\n",
       "        text-align: right;\n",
       "    }\n",
       "</style>\n",
       "<table border=\"1\" class=\"dataframe\">\n",
       "  <thead>\n",
       "    <tr style=\"text-align: right;\">\n",
       "      <th></th>\n",
       "      <th>제목</th>\n",
       "      <th>유사도</th>\n",
       "    </tr>\n",
       "  </thead>\n",
       "  <tbody>\n",
       "    <tr>\n",
       "      <th>0</th>\n",
       "      <td>나의 매혹적인 친구</td>\n",
       "      <td>0.388737</td>\n",
       "    </tr>\n",
       "    <tr>\n",
       "      <th>1</th>\n",
       "      <td>솔라리스</td>\n",
       "      <td>0.383140</td>\n",
       "    </tr>\n",
       "    <tr>\n",
       "      <th>2</th>\n",
       "      <td>프랑켄슈타인 (한글판) 065</td>\n",
       "      <td>0.382579</td>\n",
       "    </tr>\n",
       "    <tr>\n",
       "      <th>3</th>\n",
       "      <td>코난 도일 호러 걸작선 (개정 증보판)</td>\n",
       "      <td>0.367213</td>\n",
       "    </tr>\n",
       "    <tr>\n",
       "      <th>4</th>\n",
       "      <td>허니문</td>\n",
       "      <td>0.364073</td>\n",
       "    </tr>\n",
       "    <tr>\n",
       "      <th>5</th>\n",
       "      <td>종말일기Z</td>\n",
       "      <td>0.359834</td>\n",
       "    </tr>\n",
       "    <tr>\n",
       "      <th>6</th>\n",
       "      <td>자전거를 탄 세 남자 - 문예세계문학선 125</td>\n",
       "      <td>0.359372</td>\n",
       "    </tr>\n",
       "    <tr>\n",
       "      <th>7</th>\n",
       "      <td>설탕 사기 사건</td>\n",
       "      <td>0.358597</td>\n",
       "    </tr>\n",
       "    <tr>\n",
       "      <th>8</th>\n",
       "      <td>자칼의 왕</td>\n",
       "      <td>0.358463</td>\n",
       "    </tr>\n",
       "    <tr>\n",
       "      <th>9</th>\n",
       "      <td>사랑의 기초 연인들</td>\n",
       "      <td>0.358030</td>\n",
       "    </tr>\n",
       "  </tbody>\n",
       "</table>\n",
       "</div>"
      ],
      "text/plain": [
       "                          제목       유사도\n",
       "0                 나의 매혹적인 친구  0.388737\n",
       "1                       솔라리스  0.383140\n",
       "2           프랑켄슈타인 (한글판) 065  0.382579\n",
       "3      코난 도일 호러 걸작선 (개정 증보판)  0.367213\n",
       "4                        허니문  0.364073\n",
       "5                      종말일기Z  0.359834\n",
       "6  자전거를 탄 세 남자 - 문예세계문학선 125  0.359372\n",
       "7                   설탕 사기 사건  0.358597\n",
       "8                      자칼의 왕  0.358463\n",
       "9                 사랑의 기초 연인들  0.358030"
      ]
     },
     "execution_count": 68,
     "metadata": {},
     "output_type": "execute_result"
    }
   ],
   "source": [
    "similar_doc = model.docvecs.most_similar('야간비행')\n",
    "pd.DataFrame(similar_doc, columns=[\"제목\", \"유사도\"])"
   ]
  },
  {
   "cell_type": "code",
   "execution_count": null,
   "id": "ccba21a4",
   "metadata": {},
   "outputs": [],
   "source": []
  }
 ],
 "metadata": {
  "kernelspec": {
   "display_name": "Python 3 (ipykernel)",
   "language": "python",
   "name": "python3"
  },
  "language_info": {
   "codemirror_mode": {
    "name": "ipython",
    "version": 3
   },
   "file_extension": ".py",
   "mimetype": "text/x-python",
   "name": "python",
   "nbconvert_exporter": "python",
   "pygments_lexer": "ipython3",
   "version": "3.9.13"
  }
 },
 "nbformat": 4,
 "nbformat_minor": 5
}
