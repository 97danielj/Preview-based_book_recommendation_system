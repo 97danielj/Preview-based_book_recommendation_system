{
 "cells": [
  {
   "cell_type": "code",
   "execution_count": 1,
   "id": "a07ab202",
   "metadata": {},
   "outputs": [],
   "source": [
    "# 라이브러리 가져오기\n",
    "import re\n",
    "import json\n",
    "import numpy as np\n",
    "import pandas as pd"
   ]
  },
  {
   "cell_type": "markdown",
   "id": "5647a640",
   "metadata": {},
   "source": [
    "# TF-IDF 전처리"
   ]
  },
  {
   "cell_type": "code",
   "execution_count": 11,
   "id": "a5f89f9b",
   "metadata": {},
   "outputs": [],
   "source": [
    "# 데이터 가져오기\n",
    "df = pd.read_json(\"yes24.json\")"
   ]
  },
  {
   "cell_type": "code",
   "execution_count": 12,
   "id": "4d9cafe9",
   "metadata": {},
   "outputs": [
    {
     "data": {
      "text/html": [
       "<div>\n",
       "<style scoped>\n",
       "    .dataframe tbody tr th:only-of-type {\n",
       "        vertical-align: middle;\n",
       "    }\n",
       "\n",
       "    .dataframe tbody tr th {\n",
       "        vertical-align: top;\n",
       "    }\n",
       "\n",
       "    .dataframe thead th {\n",
       "        text-align: right;\n",
       "    }\n",
       "</style>\n",
       "<table border=\"1\" class=\"dataframe\">\n",
       "  <thead>\n",
       "    <tr style=\"text-align: right;\">\n",
       "      <th></th>\n",
       "      <th>title</th>\n",
       "      <th>preview</th>\n",
       "    </tr>\n",
       "  </thead>\n",
       "  <tbody>\n",
       "    <tr>\n",
       "      <th>0</th>\n",
       "      <td>불편한 편의점</td>\n",
       "      <td>염영숙 여사가 가방 안에 파우치가 없다는 걸 알았을 때 기차는 평택 부근을 지나고 ...</td>\n",
       "    </tr>\n",
       "    <tr>\n",
       "      <th>1</th>\n",
       "      <td>달러구트 꿈 백화점 : 잠들어야만 입장 가능합니다</td>\n",
       "      <td>[목차]\\n\\n작가의 말\\n프롤로그. 3번째 제자의 유서 깊은 가게\\n\\n1. 주문...</td>\n",
       "    </tr>\n",
       "    <tr>\n",
       "      <th>2</th>\n",
       "      <td>미드나잇 라이브러리</td>\n",
       "      <td>지은이 매트 헤이그Matt Haig\\n“강렬한 존재감과 위대한 재능을 가진 소설가”...</td>\n",
       "    </tr>\n",
       "    <tr>\n",
       "      <th>3</th>\n",
       "      <td>기적의 분식집</td>\n",
       "      <td>1◆\\n이계로 통하는 차원 문\\n\\n“흐으윽.”\\n강성호는 기지개를 켜며 일어났다....</td>\n",
       "    </tr>\n",
       "    <tr>\n",
       "      <th>4</th>\n",
       "      <td>유리의 살의</td>\n",
       "      <td>* 이 작품은 픽션입니다.\\n실제 인물, 단체와는 일절 관계가 없습니다.\\n\\n\\n...</td>\n",
       "    </tr>\n",
       "    <tr>\n",
       "      <th>...</th>\n",
       "      <td>...</td>\n",
       "      <td>...</td>\n",
       "    </tr>\n",
       "    <tr>\n",
       "      <th>7769</th>\n",
       "      <td>완전한 행복</td>\n",
       "      <td></td>\n",
       "    </tr>\n",
       "    <tr>\n",
       "      <th>7770</th>\n",
       "      <td>프로젝트 헤일메리</td>\n",
       "      <td></td>\n",
       "    </tr>\n",
       "    <tr>\n",
       "      <th>7771</th>\n",
       "      <td>1984 (한글판) 019</td>\n",
       "      <td></td>\n",
       "    </tr>\n",
       "    <tr>\n",
       "      <th>7772</th>\n",
       "      <td>구의 증명 [할인]</td>\n",
       "      <td></td>\n",
       "    </tr>\n",
       "    <tr>\n",
       "      <th>7773</th>\n",
       "      <td>대도시의 사랑법</td>\n",
       "      <td></td>\n",
       "    </tr>\n",
       "  </tbody>\n",
       "</table>\n",
       "<p>7774 rows × 2 columns</p>\n",
       "</div>"
      ],
      "text/plain": [
       "                            title  \\\n",
       "0                         불편한 편의점   \n",
       "1     달러구트 꿈 백화점 : 잠들어야만 입장 가능합니다   \n",
       "2                      미드나잇 라이브러리   \n",
       "3                         기적의 분식집   \n",
       "4                          유리의 살의   \n",
       "...                           ...   \n",
       "7769                       완전한 행복   \n",
       "7770                    프로젝트 헤일메리   \n",
       "7771               1984 (한글판) 019   \n",
       "7772                   구의 증명 [할인]   \n",
       "7773                     대도시의 사랑법   \n",
       "\n",
       "                                                preview  \n",
       "0     염영숙 여사가 가방 안에 파우치가 없다는 걸 알았을 때 기차는 평택 부근을 지나고 ...  \n",
       "1     [목차]\\n\\n작가의 말\\n프롤로그. 3번째 제자의 유서 깊은 가게\\n\\n1. 주문...  \n",
       "2     지은이 매트 헤이그Matt Haig\\n“강렬한 존재감과 위대한 재능을 가진 소설가”...  \n",
       "3     1◆\\n이계로 통하는 차원 문\\n\\n“흐으윽.”\\n강성호는 기지개를 켜며 일어났다....  \n",
       "4     * 이 작품은 픽션입니다.\\n실제 인물, 단체와는 일절 관계가 없습니다.\\n\\n\\n...  \n",
       "...                                                 ...  \n",
       "7769                                                     \n",
       "7770                                                     \n",
       "7771                                                     \n",
       "7772                                                     \n",
       "7773                                                     \n",
       "\n",
       "[7774 rows x 2 columns]"
      ]
     },
     "execution_count": 12,
     "metadata": {},
     "output_type": "execute_result"
    }
   ],
   "source": [
    "df\n",
    "#7774개의 도서 데이터"
   ]
  },
  {
   "cell_type": "markdown",
   "id": "ff9a1bf8",
   "metadata": {},
   "source": [
    "## 프리뷰 전처리"
   ]
  },
  {
   "cell_type": "code",
   "execution_count": 13,
   "id": "9ca72659",
   "metadata": {},
   "outputs": [],
   "source": [
    "# 한국어와 공백이 아닌 모든 문자를 공백으로 바꾼다.\n",
    "df.preview = df.preview.str.replace(r\"[^가-힣 \\s]\", \" \", regex=True)\n",
    "\n",
    "# 여러개의 공백을 하나의 공백으로 바꾼다\n",
    "df.preview = df.preview.str.replace(r\"\\s+\", \" \", regex=True)\n",
    "\n",
    "# 문장 앞 뒤의 공백을 제거한다\n",
    "df.preview = df.preview.str.strip()\n",
    "\n",
    "# 빈 공백을 nan 으로 바꾼다\n",
    "df.preview = df.preview.replace(\"\", np.nan)\n",
    "\n",
    "# 결측치 제거\n",
    "df = df.dropna()"
   ]
  },
  {
   "cell_type": "code",
   "execution_count": 16,
   "id": "92e58220",
   "metadata": {},
   "outputs": [
    {
     "data": {
      "text/html": [
       "<div>\n",
       "<style scoped>\n",
       "    .dataframe tbody tr th:only-of-type {\n",
       "        vertical-align: middle;\n",
       "    }\n",
       "\n",
       "    .dataframe tbody tr th {\n",
       "        vertical-align: top;\n",
       "    }\n",
       "\n",
       "    .dataframe thead th {\n",
       "        text-align: right;\n",
       "    }\n",
       "</style>\n",
       "<table border=\"1\" class=\"dataframe\">\n",
       "  <thead>\n",
       "    <tr style=\"text-align: right;\">\n",
       "      <th></th>\n",
       "      <th>title</th>\n",
       "      <th>preview</th>\n",
       "    </tr>\n",
       "  </thead>\n",
       "  <tbody>\n",
       "    <tr>\n",
       "      <th>0</th>\n",
       "      <td>불편한 편의점</td>\n",
       "      <td>염영숙 여사가 가방 안에 파우치가 없다는 걸 알았을 때 기차는 평택 부근을 지나고 ...</td>\n",
       "    </tr>\n",
       "    <tr>\n",
       "      <th>1</th>\n",
       "      <td>달러구트 꿈 백화점 : 잠들어야만 입장 가능합니다</td>\n",
       "      <td>목차 작가의 말 프롤로그 번째 제자의 유서 깊은 가게 주문하신 꿈은 매진입니다 한밤...</td>\n",
       "    </tr>\n",
       "    <tr>\n",
       "      <th>2</th>\n",
       "      <td>미드나잇 라이브러리</td>\n",
       "      <td>지은이 매트 헤이그 강렬한 존재감과 위대한 재능을 가진 소설가 로 평가받는 영국의 ...</td>\n",
       "    </tr>\n",
       "    <tr>\n",
       "      <th>3</th>\n",
       "      <td>기적의 분식집</td>\n",
       "      <td>이계로 통하는 차원 문 흐으윽 강성호는 기지개를 켜며 일어났다 오늘도 지겨운 하루가...</td>\n",
       "    </tr>\n",
       "    <tr>\n",
       "      <th>4</th>\n",
       "      <td>유리의 살의</td>\n",
       "      <td>이 작품은 픽션입니다 실제 인물 단체와는 일절 관계가 없습니다 이 책은 주 한국저작...</td>\n",
       "    </tr>\n",
       "    <tr>\n",
       "      <th>...</th>\n",
       "      <td>...</td>\n",
       "      <td>...</td>\n",
       "    </tr>\n",
       "    <tr>\n",
       "      <th>7647</th>\n",
       "      <td>문어의 아홉 번째 다리</td>\n",
       "      <td>디르크 로스만지음 서경홍옮김 이 책의 한국어판 저작권은 모모 에이전시를 통해 사와의...</td>\n",
       "    </tr>\n",
       "    <tr>\n",
       "      <th>7648</th>\n",
       "      <td>백은의 잭</td>\n",
       "      <td>히가시노 게이고 일본 최고의 베스트셀러 작가 년 오사카 출생 오사카 부립대학 졸업 ...</td>\n",
       "    </tr>\n",
       "    <tr>\n",
       "      <th>7652</th>\n",
       "      <td>빅티켓</td>\n",
       "      <td>테릴 리 랭크포드를 위하여 우리는 우리의 삶을 우화처럼 기억한다 작자 불명 본 도서...</td>\n",
       "    </tr>\n",
       "    <tr>\n",
       "      <th>7719</th>\n",
       "      <td>나쁜 토끼</td>\n",
       "      <td>와카타케 나나미 일본 코지 미스터리의 여왕 년 도쿄에서 태어나 릿쿄 대학 문학부를 ...</td>\n",
       "    </tr>\n",
       "    <tr>\n",
       "      <th>7727</th>\n",
       "      <td>욕조가 놓인 방</td>\n",
       "      <td>이승우 년 전남 장흥에서 태어났다 년 한국문학 신인상을 받으며 작품 활동을 시작했다...</td>\n",
       "    </tr>\n",
       "  </tbody>\n",
       "</table>\n",
       "<p>1506 rows × 2 columns</p>\n",
       "</div>"
      ],
      "text/plain": [
       "                            title  \\\n",
       "0                         불편한 편의점   \n",
       "1     달러구트 꿈 백화점 : 잠들어야만 입장 가능합니다   \n",
       "2                      미드나잇 라이브러리   \n",
       "3                         기적의 분식집   \n",
       "4                          유리의 살의   \n",
       "...                           ...   \n",
       "7647                 문어의 아홉 번째 다리   \n",
       "7648                        백은의 잭   \n",
       "7652                          빅티켓   \n",
       "7719                        나쁜 토끼   \n",
       "7727                     욕조가 놓인 방   \n",
       "\n",
       "                                                preview  \n",
       "0     염영숙 여사가 가방 안에 파우치가 없다는 걸 알았을 때 기차는 평택 부근을 지나고 ...  \n",
       "1     목차 작가의 말 프롤로그 번째 제자의 유서 깊은 가게 주문하신 꿈은 매진입니다 한밤...  \n",
       "2     지은이 매트 헤이그 강렬한 존재감과 위대한 재능을 가진 소설가 로 평가받는 영국의 ...  \n",
       "3     이계로 통하는 차원 문 흐으윽 강성호는 기지개를 켜며 일어났다 오늘도 지겨운 하루가...  \n",
       "4     이 작품은 픽션입니다 실제 인물 단체와는 일절 관계가 없습니다 이 책은 주 한국저작...  \n",
       "...                                                 ...  \n",
       "7647  디르크 로스만지음 서경홍옮김 이 책의 한국어판 저작권은 모모 에이전시를 통해 사와의...  \n",
       "7648  히가시노 게이고 일본 최고의 베스트셀러 작가 년 오사카 출생 오사카 부립대학 졸업 ...  \n",
       "7652  테릴 리 랭크포드를 위하여 우리는 우리의 삶을 우화처럼 기억한다 작자 불명 본 도서...  \n",
       "7719  와카타케 나나미 일본 코지 미스터리의 여왕 년 도쿄에서 태어나 릿쿄 대학 문학부를 ...  \n",
       "7727  이승우 년 전남 장흥에서 태어났다 년 한국문학 신인상을 받으며 작품 활동을 시작했다...  \n",
       "\n",
       "[1506 rows x 2 columns]"
      ]
     },
     "execution_count": 16,
     "metadata": {},
     "output_type": "execute_result"
    }
   ],
   "source": [
    "df\n",
    "## 1506개로 줄어든다."
   ]
  },
  {
   "cell_type": "markdown",
   "id": "d0ffe205",
   "metadata": {},
   "source": [
    "## 타이틀 전처리"
   ]
  },
  {
   "cell_type": "code",
   "execution_count": 17,
   "id": "69f7bf1d",
   "metadata": {},
   "outputs": [
    {
     "name": "stderr",
     "output_type": "stream",
     "text": [
      "C:\\Users\\JSWonner\\AppData\\Local\\Temp\\ipykernel_27040\\1579629539.py:2: SettingWithCopyWarning: \n",
      "A value is trying to be set on a copy of a slice from a DataFrame.\n",
      "Try using .loc[row_indexer,col_indexer] = value instead\n",
      "\n",
      "See the caveats in the documentation: https://pandas.pydata.org/pandas-docs/stable/user_guide/indexing.html#returning-a-view-versus-a-copy\n",
      "  df.title = df.title.str.replace(r\"\\[.+\\]\", \"\", regex=True)\n",
      "C:\\Users\\JSWonner\\AppData\\Local\\Temp\\ipykernel_27040\\1579629539.py:5: SettingWithCopyWarning: \n",
      "A value is trying to be set on a copy of a slice from a DataFrame.\n",
      "Try using .loc[row_indexer,col_indexer] = value instead\n",
      "\n",
      "See the caveats in the documentation: https://pandas.pydata.org/pandas-docs/stable/user_guide/indexing.html#returning-a-view-versus-a-copy\n",
      "  df.title = df.title.str.replace(r\"\\s+\", \" \", regex=True)\n",
      "C:\\Users\\JSWonner\\AppData\\Local\\Temp\\ipykernel_27040\\1579629539.py:8: SettingWithCopyWarning: \n",
      "A value is trying to be set on a copy of a slice from a DataFrame.\n",
      "Try using .loc[row_indexer,col_indexer] = value instead\n",
      "\n",
      "See the caveats in the documentation: https://pandas.pydata.org/pandas-docs/stable/user_guide/indexing.html#returning-a-view-versus-a-copy\n",
      "  df.title = df.title.str.strip()\n"
     ]
    }
   ],
   "source": [
    "# 대괄호 내부에 문자를 제거한다\n",
    "df.title = df.title.str.replace(r\"\\[.+\\]\", \"\", regex=True)\n",
    "\n",
    "# 여러개의 공백을 하나의 공백으로 바꾼다\n",
    "df.title = df.title.str.replace(r\"\\s+\", \" \", regex=True)\n",
    "\n",
    "# 문장 앞 뒤의 공백을 제거한다\n",
    "df.title = df.title.str.strip()\n",
    "\n",
    "# 제목 중복을 제거한다\n",
    "df = df.drop_duplicates([\"title\"])\n",
    "\n",
    "# 미리보기 중복을 제거한다\n",
    "df = df.drop_duplicates([\"preview\"])"
   ]
  },
  {
   "cell_type": "code",
   "execution_count": 18,
   "id": "1c5e2a84",
   "metadata": {},
   "outputs": [],
   "source": [
    "# 1000자 미만 삭제\n",
    "df = df[df.preview.str.len() > 1000]"
   ]
  },
  {
   "cell_type": "code",
   "execution_count": 19,
   "id": "491ab247",
   "metadata": {},
   "outputs": [],
   "source": [
    "# 인덱스를 재설정한다.\n",
    "df = df.reset_index(drop=True, inplace=False)"
   ]
  },
  {
   "cell_type": "code",
   "execution_count": 20,
   "id": "69a0acdd",
   "metadata": {},
   "outputs": [
    {
     "data": {
      "text/html": [
       "<div>\n",
       "<style scoped>\n",
       "    .dataframe tbody tr th:only-of-type {\n",
       "        vertical-align: middle;\n",
       "    }\n",
       "\n",
       "    .dataframe tbody tr th {\n",
       "        vertical-align: top;\n",
       "    }\n",
       "\n",
       "    .dataframe thead th {\n",
       "        text-align: right;\n",
       "    }\n",
       "</style>\n",
       "<table border=\"1\" class=\"dataframe\">\n",
       "  <thead>\n",
       "    <tr style=\"text-align: right;\">\n",
       "      <th></th>\n",
       "      <th>title</th>\n",
       "      <th>preview</th>\n",
       "    </tr>\n",
       "  </thead>\n",
       "  <tbody>\n",
       "    <tr>\n",
       "      <th>0</th>\n",
       "      <td>불편한 편의점</td>\n",
       "      <td>염영숙 여사가 가방 안에 파우치가 없다는 걸 알았을 때 기차는 평택 부근을 지나고 ...</td>\n",
       "    </tr>\n",
       "    <tr>\n",
       "      <th>1</th>\n",
       "      <td>달러구트 꿈 백화점 : 잠들어야만 입장 가능합니다</td>\n",
       "      <td>목차 작가의 말 프롤로그 번째 제자의 유서 깊은 가게 주문하신 꿈은 매진입니다 한밤...</td>\n",
       "    </tr>\n",
       "    <tr>\n",
       "      <th>2</th>\n",
       "      <td>미드나잇 라이브러리</td>\n",
       "      <td>지은이 매트 헤이그 강렬한 존재감과 위대한 재능을 가진 소설가 로 평가받는 영국의 ...</td>\n",
       "    </tr>\n",
       "    <tr>\n",
       "      <th>3</th>\n",
       "      <td>기적의 분식집</td>\n",
       "      <td>이계로 통하는 차원 문 흐으윽 강성호는 기지개를 켜며 일어났다 오늘도 지겨운 하루가...</td>\n",
       "    </tr>\n",
       "    <tr>\n",
       "      <th>4</th>\n",
       "      <td>유리의 살의</td>\n",
       "      <td>이 작품은 픽션입니다 실제 인물 단체와는 일절 관계가 없습니다 이 책은 주 한국저작...</td>\n",
       "    </tr>\n",
       "    <tr>\n",
       "      <th>...</th>\n",
       "      <td>...</td>\n",
       "      <td>...</td>\n",
       "    </tr>\n",
       "    <tr>\n",
       "      <th>1280</th>\n",
       "      <td>문어의 아홉 번째 다리</td>\n",
       "      <td>디르크 로스만지음 서경홍옮김 이 책의 한국어판 저작권은 모모 에이전시를 통해 사와의...</td>\n",
       "    </tr>\n",
       "    <tr>\n",
       "      <th>1281</th>\n",
       "      <td>백은의 잭</td>\n",
       "      <td>히가시노 게이고 일본 최고의 베스트셀러 작가 년 오사카 출생 오사카 부립대학 졸업 ...</td>\n",
       "    </tr>\n",
       "    <tr>\n",
       "      <th>1282</th>\n",
       "      <td>빅티켓</td>\n",
       "      <td>테릴 리 랭크포드를 위하여 우리는 우리의 삶을 우화처럼 기억한다 작자 불명 본 도서...</td>\n",
       "    </tr>\n",
       "    <tr>\n",
       "      <th>1283</th>\n",
       "      <td>나쁜 토끼</td>\n",
       "      <td>와카타케 나나미 일본 코지 미스터리의 여왕 년 도쿄에서 태어나 릿쿄 대학 문학부를 ...</td>\n",
       "    </tr>\n",
       "    <tr>\n",
       "      <th>1284</th>\n",
       "      <td>욕조가 놓인 방</td>\n",
       "      <td>이승우 년 전남 장흥에서 태어났다 년 한국문학 신인상을 받으며 작품 활동을 시작했다...</td>\n",
       "    </tr>\n",
       "  </tbody>\n",
       "</table>\n",
       "<p>1285 rows × 2 columns</p>\n",
       "</div>"
      ],
      "text/plain": [
       "                            title  \\\n",
       "0                         불편한 편의점   \n",
       "1     달러구트 꿈 백화점 : 잠들어야만 입장 가능합니다   \n",
       "2                      미드나잇 라이브러리   \n",
       "3                         기적의 분식집   \n",
       "4                          유리의 살의   \n",
       "...                           ...   \n",
       "1280                 문어의 아홉 번째 다리   \n",
       "1281                        백은의 잭   \n",
       "1282                          빅티켓   \n",
       "1283                        나쁜 토끼   \n",
       "1284                     욕조가 놓인 방   \n",
       "\n",
       "                                                preview  \n",
       "0     염영숙 여사가 가방 안에 파우치가 없다는 걸 알았을 때 기차는 평택 부근을 지나고 ...  \n",
       "1     목차 작가의 말 프롤로그 번째 제자의 유서 깊은 가게 주문하신 꿈은 매진입니다 한밤...  \n",
       "2     지은이 매트 헤이그 강렬한 존재감과 위대한 재능을 가진 소설가 로 평가받는 영국의 ...  \n",
       "3     이계로 통하는 차원 문 흐으윽 강성호는 기지개를 켜며 일어났다 오늘도 지겨운 하루가...  \n",
       "4     이 작품은 픽션입니다 실제 인물 단체와는 일절 관계가 없습니다 이 책은 주 한국저작...  \n",
       "...                                                 ...  \n",
       "1280  디르크 로스만지음 서경홍옮김 이 책의 한국어판 저작권은 모모 에이전시를 통해 사와의...  \n",
       "1281  히가시노 게이고 일본 최고의 베스트셀러 작가 년 오사카 출생 오사카 부립대학 졸업 ...  \n",
       "1282  테릴 리 랭크포드를 위하여 우리는 우리의 삶을 우화처럼 기억한다 작자 불명 본 도서...  \n",
       "1283  와카타케 나나미 일본 코지 미스터리의 여왕 년 도쿄에서 태어나 릿쿄 대학 문학부를 ...  \n",
       "1284  이승우 년 전남 장흥에서 태어났다 년 한국문학 신인상을 받으며 작품 활동을 시작했다...  \n",
       "\n",
       "[1285 rows x 2 columns]"
      ]
     },
     "execution_count": 20,
     "metadata": {},
     "output_type": "execute_result"
    }
   ],
   "source": [
    "df"
   ]
  },
  {
   "cell_type": "markdown",
   "id": "3b1eb08e",
   "metadata": {},
   "source": [
    "# 명사 형태소 분석"
   ]
  },
  {
   "cell_type": "code",
   "execution_count": 21,
   "id": "ecdbcc51",
   "metadata": {},
   "outputs": [],
   "source": [
    "# 라이브러리 가져오기\n",
    "from tqdm.auto import tqdm\n",
    "from konlpy.tag import Mecab\n",
    "\n",
    "# 미캡 객체 생성\n",
    "tagger = Mecab(dicpath=r\"C:\\mecab\\mecab-ko-dic\")"
   ]
  },
  {
   "cell_type": "code",
   "execution_count": 22,
   "id": "2153762e",
   "metadata": {},
   "outputs": [
    {
     "data": {
      "application/vnd.jupyter.widget-view+json": {
       "model_id": "1e4c1c9d31734c028e3603870d008f6f",
       "version_major": 2,
       "version_minor": 0
      },
      "text/plain": [
       "  0%|          | 0/1285 [00:00<?, ?it/s]"
      ]
     },
     "metadata": {},
     "output_type": "display_data"
    }
   ],
   "source": [
    "# 분석할 데이터 담을 변수\n",
    "analyzed_data = []\n",
    "\n",
    "# 미리보기 데이터 조회\n",
    "for preview in tqdm(df.preview):\n",
    "    \n",
    "    # 명사만 추출\n",
    "    tag_result = tagger.nouns(preview)\n",
    "    \n",
    "    # 각 단어를 공백을 사이에 두고 하나로 합침\n",
    "    result = \" \".join(tag_result)\n",
    "\n",
    "    # 데이터를 변수에 담음\n",
    "    analyzed_data.append(result)"
   ]
  },
  {
   "cell_type": "code",
   "execution_count": 23,
   "id": "c66aa88a",
   "metadata": {},
   "outputs": [
    {
     "data": {
      "text/plain": [
       "'염 영숙 여사 가방 안 파우 걸 때 기차 평택 부근 문제 어디 그것 기억 것 파우 현실 감퇴 기억력 그녀 불안 식은땀 그녀 자신 행적 필사 서울 역 기차표 때 파우 파우 지갑 카드 표 수 이후 대합실 앞 시간 뉴스 채널 여 분간 기차 탑승 가방 채 잠 것 휴대폰 가방 때 안 파우 것 뿐 지갑 통장 수첩 등 자신 중요 것 파우 것 그녀 숨 지경 염 여사 자신 기차 속력 두뇌 가동 차창 밖 풍경 듯 기억 리 와인 드 혼잣말 다리 골몰 그녀 행동 옆 자리 중년 사내 헛기침 그녀 몰입 방해 건 옆 자리 사내 기침 가방 안 휴대폰 착신 음악 아바 노래 곡명 댄싱 퀸 할머니 치매 염 여사 손 가방 휴대폰 나 곡명 뮤직 것 기억 동시 번호 전화 것 확인 그녀 심호흡 뒤 전화 상대방 대답 주변 소음 공공장소 짐작 누구 염 영숙 사람 목소리 겨울잠 곰 동굴 처음 입 법 소리 지갑 분 어디 서울 서울 어디 서울역 서울 역 그녀 안도 한숨 휴대폰 옆 뒤 목청 지갑 제 기차 안 고요 다음 역 테 보관 어디 수 사례 제 대로 여기 데 서울역 어디 공항 철도 길 편의점 전화 기분 휴대폰 너머 동물 음성 말투 그 노숙 자임 확신 무엇 데 말뜻 공중 전화 번호 그 휴대폰 노숙 염 여사 긴장 수 지갑 데 뭔가 불안 걸 요구 두려움 전화 지갑 호의 사내 해코지 것 사례 비 지갑 속 현찰 만 원 듯 천안 정차 거 안내 방송 염 여사 휴대폰 가방 자리 기차 수원 즈음 휴대폰 뮤직 가사 치매 예방 액정 확인 아까 번호 염 여사 불안 기분 전화 사내 듯 목소리 염 여사 변명 학생 상대 때 목소리 힘 말씀 선생 배 편의점 도시락 순간 염 여사 마음 미열 선생 호칭 도시락 단어 그녀 걸 수 도시락 목마 테 음료수 전화 얼마 휴대폰 결제 문자 이건 편의점 계산대 앞 전화 게 정도 시간 걸 그 정체 서울역 맹주 비둘기 친구 노숙 박찬호 투 머치 찬 도시락 원 음료수 거 염치 보군 염 여사 누군가 고민 마음 그 둘 일흔 치매 염려 증상 하나 그녀 자신 위엄 교단 정년 때 번 비굴 학생 상대 자신 서울 역 도착 공항철도 에스컬레이터 발견 에스컬레이터 전방 오른편 편의점 곰 목소리 사내 도시락 얼굴 채 앞 그 실체 그녀 긴장 끈 대걸레 떡 장발 사내 스포츠 점퍼 지색 갈색 면바지 그 정성 젓가락질 도시락 속 비엔나소시지 노숙 염 여사 마음 그때 명 사내 도시락 그 염 여사 발걸음 수 명 하이에나 사내 노숙 자임 그 도시락 사내 채 무언가 안간힘 그녀 주위 발 사람 노숙 다툼 뿐 사내 도시락 채 온몸 공 방어 결국 놈 목 팔 물건 염 여사 시야 놈 물건 자신 분홍색 파우 도시락 사내 발 번 뒤 노숙 셋 이 자리 시작 염 여사 손발 바 채 그때 사내 반격 파우 놈 온몸 괴성 사내 놈 다리 놈 파우 사내 녀석 순간 염 여사 눈 불 그녀 그 목 핏대 이놈 그거 그녀 고함 돌진 녀석 그녀 가방 앞 녀석 머리 놈 고통 녀석 뒷걸음질 시작 도둑 내 지갑 이놈 염 여사 외침 사람 관심 시작 녀석 하나 둘 몸 시작 도시락 사내 품 안 파우 채 그녀 사내 사내 고개 염 여사 눈두덩 코피 콧물 코 수염 입 사냥 원시인 사내 자신 공격 놈 것 듯 몸 염 여사 손수건 사내 앞 순간 노숙 특유 냄새 코 염 여사 숨 그 손수건 사내 고개 뒤 점퍼 소매 코 그녀 파우 사내 피 콧물 염려 스스로 짜증 사내 고개 염 여사 사내 눈빛 그녀 자신 무얼 거 걱정 자리 마음 파우 그거 사내 자신 왼팔 파우 손 그녀 염 여사 파우 순간 사내 그것 자기 품 회수 그녀 그 파우 거 주인 내 주인 거 나 통화 거 기억 그 의심 염 여사 기분 사내 가타부타 파우 지갑 거기 신분증 주민 번호 내 거짓말 거 이거 주인 채 책임 거기 주민 등록증 내 사진 비교 사내 눈 주민 등록증 염 여사 사진 염 여사 자기 혀 화 사진 사내 사진 염 여사 얼굴 만 건강 상태 반영 듯 사내 시력 문제 것 그녀 주민 번호 마 말 염 여사 한숨 뒤 사내 말 오 이 공 칠 이 오 사내 동의 눈짓 주민 등록증 지갑 파우 염 여사 파우 소동 정리 기분 사내 고마움 시작 노숙 파우 것 주인 확인 것 책임감 수 행동 때문 그때 사내 소리 염 여사 자리 지갑 현찰 만 원 여기 돈 사내 게 사내 현찰 손 대신 점퍼 손 정체 수 휴지 뭉치 그걸로 코피 코 시작 사례 비 손 그녀 한동안 사내 그 도시락 편의점 앞 몸 그녀 사내 편의점 앞 도시락 광경 사내 혼잣말 탄식 소리 그 뒷모습 염 여사 몸 등 사내 그녀 주눅 학생 때 표정 아저씨 나 어디 가요 서부역 방면 사내 자연 품 아스팔트 위 트럭 거부 초식 동물 염 여사 재촉 손짓 그 서울역 역사 갈월동 길 사내 염 여사 속도 보 간격 뒤 그녀 잰걸음 갈월동 청파동 늦가을 은행나무 가로수 열매 사내 냄새 염 여사 그 생각 사례 거부 사내 보상 사내 필사 자신 파우 것 보상 노숙 행동 걸 지지 시간 교단 몸 학생 행동 피드백 여기 발휘 것 사실 무엇 염 여사 모태 신앙 생애 전부 크리스천 사마리아인 모습 노숙 사내 자신 사마리아인 쯤 서부역 뒤편 거리 교회 빌딩 눈 여대 앞 청바지 점퍼 여학생 방송 분식집 앞 사람 염 여사 뒤 사내 거리 풍경 여념 그녀 사내 사람 그녀 자신 사내 조합 사람 걱정 이곳 청파동 자신 동네 때문 자신 매장이 자리 곳 숙명 여대 방향 염 여사 사내 꼬리 채 골목 번 삼거리 삼 거리 모퉁이 자리 편의점 그곳 염 여사 소유 사업체 사내 도시락 제공 수 공간 편의점 문 염 여사 사내 손짓 사내 그녀 뒤 아르바이트 시현 휴대폰 염 여사 미소 인사 염 여사 미소 답 데 순간 시현 표정 게 손 손 말 사내 시현 표정 염 여사 그녀 어른 한참 생각 사내 팔 도시락 진열대 사내 눈치 건지 생각 건지 염 여사 거 여기 내 운영 편의점 눈치 입맛 사내 입 채 게 박찬호 도시락 여긴 편의점 박찬호 도시락 에서 여기 거 박찬호 도시락 사내 라이벌 편의점 도시락 타령 기 염 여사 앞 제일 도시락 이거 산해진미 도시락 이거 반찬 도시락 사내 신중 반찬 가짓수 찬 그거 노숙 수라상 녀석 염 여사 도시락 탐구 사내 속 말 확인 사내 고개 그녀 인사 자기 지정석 가게 야외 테이블 녹색 플라스틱 야외 테이블 사내 식탁 사내 귀중품 도시락 뚜껑 뒤 정성 젓가락 개 후 밥 한술 입 염 여사 사내 행동 하나하나 컵 장국 하나 집 계산대 시현 바코드 염 여사 된장국 온수 뒤 수저 밖 국물 염 여사 된장국 그녀 얼굴 사내 수저 새 모금 그 따윈 듯 된장국 반 뒤 고개 젓가락질 편의점 종이컵 물 염 여사 그것 사내 옆 뒤 맞은편 그녀 사내 도시락 걸 겨울잠 건지 겨울잠 자기 영양 건지 꿀통 곰 꼴 노숙 하루 끼 텐데 덩치 걸까 그녀 노숙 살 게 빈곤층 비만 것 이치 생각 아무 사내 볶음 김치 국물 입 채 염 여사 아까 경계 눈빛 표정 사내 옆 도시락 뚜껑 사 산해진미 사내 말 대신 고개 인사 된장국 안정 행동 걸 허기 정신 듯 어묵 볶음 젓가락 그 염 여사 만족감 얼마 어묵 볶음 그 안간힘 삶 때문 앞 때 이리 언제 도시락 가요 사내 젓가락질 눈 그녀 응시 바 말 테 돈 거 폐기 거 말 거 폐기 거 바 폐기 거 나 그거 최고 우리 편의점 폐기 거 알바 당신 거 말 테 사내 인사 어묵 볶음 조각 염 여사 수저 그 그 수저 침팬지 스마트폰 번 자전거 시간 몸 기억 것 수저 어묵 볶음 조각 뒤 만족 그것 입 플라스틱 도시락 고개 사내 염 여사 나 파우 지켜줘 그게 놈 놈 나 놈 지갑 거 파우 놈 댁 그걸 거 나 사내 고개 염 여사 종이컵 물 놈 나 셋 걔 다음 나 말 사내 서울역 상황 분 이 이 사이 고춧가루 염 여사 눈살 자신 힘 과시 그 모습 생기 기분 사내 물 주위 여기 어디 여기 청파동 언덕 언덕 사내 수염 속 입꼬리 도시락 된장국 용기 자연 행동 양 재활 용통 그것 사내 염 여사 앞 점퍼 휴지 뭉치 입 도로 몸 인사 뒤 편의점 염 여사 퇴근 직장인 서울역 방향 사내 뒷모습 편의점 그녀 시현 호기심 눈 이것저것 시작 염 여사 파우 걸 기차 상황 지금 일 염 여사 이야기 시현 걱정 추임새 사람 경우 노숙 제 노숙 지갑 거 염 여사 파우 게 시현 그것 듯 염 여사 지갑 신분증 흰머리 하나 염 여사 주민 등록증 증명사진 증명사진 지금 자신 사람 말 경우 시현 넌 배려 염 여사 시현 앞 덩치 노숙 사내 도시락 뒤 알바 모두 지시 시현 표정 편의점 톡 방 염 여사 지시 사항 시작 염 여사 표정 편의점 풀 노숙자 사내 도시락 동안 손 치매 일지 걱정 침 선행 정도 하루 생각 부산 내 정신 하루 끝 밤 부산 도착 사촌 언니 장례식 김 며칠 부산 계획 염 여사 파우 가방 서울 역 부산 닷새 간 일 염 여사 편의점 그녀 때 시현 커플 손님 음료 계산 눈 인사 커플 손 계산대 그녀 안부 인사 편의점 별일 문답 시현 듯 염 여사 옆 말 사장 사람 하루 누구 말 노숙자 사내 시간 도시락 하나 바 타임 제 시간 사람 너 거 염 여사 농담 시현 질색 표정 눈 염 여사 농담 말 시현 투정 사장 생각 제 시간 게 저녁 여덟 시 폐기 시간 거 말 거 폐기 도시락 내 말 성 사장 그게 게요 사람 카운터 앞 냄새 편의점 똥 하나 꼴 사람 카운터 거 손 적 사람 원 대로 방법 환기 제 작정 거 귀신 도시락 폐기 시간 경우 어제 어디 걱정 시현 혀 입술 걱정 모습 염 여사 헛웃음 키 몸 마음 시현 때 염 여사 바람 가게 홍보 풍선 인형 시현 너 세상 사장 노숙 도시락 주실 생각 사람 동료 시현 풍선 인형 탄력 사람 그걸 내 사람 눈 너 고용 거 존재 막내딸 시현 대거리 염 여사 시현 공무원 시험 합격 이곳 한편 편의점 그녀 생각 방울 소리 손 시현 인사 카운터 염 여사 편의점 도시락 도시락 폐기 시간 번 마음 이름 노숙 사내 이름 그날 밤 집 를 잠 염 여사 전화벨 소리 액정 아들 단어 시간 자정 막 가지 조합 부담 배 속 신물 걸 전화 취기 목소리 휴대폰 너머 아들 그녀 부산 줄 그녀 생일 내일 것 여사 사랑 사랑 효도 말 반복 레퍼토리 결말 편의점 상태 존재 질문 염 여사 네 신경 것 말 아들 대답 장사 편의점 정리 자신 사업 필요 자금 어머니 여유 평온 수 뜬구름 소리 염 여사 민 가족 거 엄마 엄마 나 아들 사람 역사 교사 정년 내 마디 국가 사람 일 평가 거 네 그동안 짓 너 너 자신 수 엄마 나 누나 엄마 날 거 가족 술주정 거 전화 엄마 전화 염 여사 주방 심장 기름 불판 것 통증 소리 가슴 전체 압박 그녀 냉장고 맥주 가슴 불 심장 고통 기세 사레 술 아들 흰소리 술 자신 모습 판단력 결단력 지금 인생 생각 자식 문제 그녀 고장 저울 편의점 정리 아들놈 사업 사기 무엇 그건 유일 재산 방 개 청파동 언덕 년 채 구옥 빌라 층 염 여사 마지막 터전 나 아들 실패 인정 아들 못난이 준사기 며느리 그걸 결혼 후 년 즈음 이혼 그때 며느리 결정 분노 결국 잘못 대부분 아들 걸 인정 수 이혼 후 년 간 아들 재산 꼴 때 유일 수 엄마 나 나 무얼 걸까 서울역 노숙자 끼니 걱정 집 나 술 아들 걸까 염 여사 맥주 뒤 식탁 기도 시작 수 것 기도 간구 생일 염 여사 딸 사위 무한 행복 손녀 희 이번 딸 가족 청파동 자신 동네 주상 복합 건물 내 한우 집 그녀 초대 딸 동부 이촌동 하이 코 빌리지 염 여사 청파동 빌라 용산구 자리 하늘 땅만큼 간극 용산구 서울 강남 구 다음 부동산 동네 염 여사 청파동 언덕 빌라 대학 하숙촌 자리 서민 동네 딸 사위 은행 집 주인 말 돈 희 중학교 때 강남 알짜배기 땅 진군 걸 목표 염 여사 자신 보수 경제 관념 공격 재테크 살림 게 딸 능력 사위 재주 게 사람 시너지 작용 걸 이해 결혼 뒤 딸 딸 사위 사돈댁 사람 다행 아들 이혼 것 죽 딸 가족 걱정 것 염 여사 대화 방향 결 것 딸 관계 용산 강남 때 물리 거리 거 걸 중 와중 한우 집 이곳 엄마 생일 장모 생일 감동 부담 게 사실 그동안 딸 가족 숙대 입구 돼지 빗 집 염 여사 생일 때문 불편 마음 염 여사 손녀 희 웃음 희 스마트폰 유튜브 할머니 눈길 신경 따름 사위 딸 자기 적 립식 장식 금융 상품 얘기 데 아들 길 한우 음식 집중 내 생일 자격 건 나 자신 그녀 생각 음식 염 여사 사위 고기 자신 입 데 주력 딸 희 사위 고기 딸 맥주 뒤 건배 듯 입 엄마 희 이번 태권 학원 여자 애 태권도 뭘 분 엄마 태권 데 남녀 희 저번 남자 애 말 태권 놈 희 얘기 거 딸 말 염 여사 자신 생각 수 표정 사위 눈치 가운데 딸 맥주잔 염 여사 희 표정 태권 희 유튜브 눈 답 말 엄마 동네 태권 도장 사범 국가 대표 상비군 경력 마인드 여기 동촌 맘 카페 동촌 맘 카페 동부 이촌동 엄마 모임 인터넷 사범 거 돈 동부 이촌동 도장 청파동 골목 사범 여기 동네 순 희 거기 엄마 도움 필요 거 한우 이빨 듯 염 여사 희 시간 시간 자신 선택 수 점 마음 딸 태권 도장 바이올린 학원 사이 희 시간 염 여사 학원 셔틀버스 바이올린 학원 염 여사 버스 은퇴 노인 일과 할머니 손녀 시간 남짓 게 일 염 여사 일과 편의점 점검 교회 봉사 치매 예방 영단 필사 염 여사 일과 딸 손녀 일 후 순위 게 것 염 여사 딸 요청 수락 수 수고비 언급 사위 딸 거 믿음 채 두말 수락 버스 길 염 여사 편의점 직원 말 아들 놈 딸년 요즘 일 직원 가족 말 딸 직원 가족 악덕 업주 사실 걸 직원 날 가족 생각 것 내 직원 가족 무리 업무 부탁 것 염 여사 의지 수 사람 편의점 직원 생각 거 스스로 오전 편의점 오 여사 동네 년 친구 교회 성도 그녀 염 여사 친언니 시간 고락 오후 시현 딸 조카 게 일 지 년 계산 것 말썽 하나 적 무엇 사람 나 편의점 알바 자리 년 간 것 지경 면 오픈 즈음 편의점 밤 성 필 씨 그녀 일 등 공신 중반 성 필 씨 년 전 편의점 오픈 뒤 야간 바 때문 골치 차 제 발 복덩이 편의점 부근 반 지하 아이 가장 그 담배 동네 아저씨 그 야간 알바 구인 전단 자신 일 수 그 실직 상태 재취업 상황 야간 알바라 생활비 말 염 여사 가장 그 기존 시급 백 원'"
      ]
     },
     "execution_count": 23,
     "metadata": {},
     "output_type": "execute_result"
    }
   ],
   "source": [
    "analyzed_data[0]\n",
    "# 첫 번째 도서의 미리보기를 Mecab으로 명사로 분해"
   ]
  },
  {
   "cell_type": "markdown",
   "id": "b99c4479",
   "metadata": {},
   "source": [
    "# TF-IDF유사도 분석"
   ]
  },
  {
   "cell_type": "code",
   "execution_count": 24,
   "id": "3c162b1a",
   "metadata": {},
   "outputs": [],
   "source": [
    "from sklearn.feature_extraction.text import TfidfVectorizer"
   ]
  },
  {
   "cell_type": "code",
   "execution_count": 29,
   "id": "223ad619",
   "metadata": {},
   "outputs": [
    {
     "name": "stdout",
     "output_type": "stream",
     "text": [
      "TF-IDF 행렬의 크기(shape) : (1285, 55540)\n"
     ]
    }
   ],
   "source": [
    "# TF-IDF를 벡터로 분석\n",
    "#analyzed_data는 TDM이ㅏㄷ. \n",
    "tfidf_matrix = TfidfVectorizer().fit_transform(analyzed_data)\n",
    "print('TF-IDF 행렬의 크기(shape) :', tfidf_matrix.shape)"
   ]
  },
  {
   "cell_type": "code",
   "execution_count": null,
   "id": "9cbc8064",
   "metadata": {},
   "outputs": [],
   "source": [
    "#1285개의 도서 문서에 55,540개의 단어가 사용"
   ]
  },
  {
   "cell_type": "code",
   "execution_count": 31,
   "id": "817a012c",
   "metadata": {},
   "outputs": [],
   "source": [
    "from sklearn.metrics.pairwise import cosine_similarity"
   ]
  },
  {
   "cell_type": "code",
   "execution_count": 32,
   "id": "08812d62",
   "metadata": {},
   "outputs": [
    {
     "name": "stdout",
     "output_type": "stream",
     "text": [
      "코사인 유사도 연산 결과 : (1285, 1285)\n"
     ]
    }
   ],
   "source": [
    "# TF-IDF 벡터의 cosine 유사도 계산\n",
    "cosine_sim = cosine_similarity(tfidf_matrix, tfidf_matrix)\n",
    "print('코사인 유사도 연산 결과 :' ,cosine_sim.shape)"
   ]
  },
  {
   "cell_type": "code",
   "execution_count": 33,
   "id": "44c4c4a2",
   "metadata": {},
   "outputs": [],
   "source": [
    "# 제목을 TF-IDF 안의 인덱스로 변환하기 위한 준비\n",
    "title_to_index = dict(zip(df['title'], df.index))"
   ]
  },
  {
   "cell_type": "code",
   "execution_count": 48,
   "id": "a22d4517",
   "metadata": {},
   "outputs": [],
   "source": [
    "idx = title_to_index['빅티켓']\n"
   ]
  },
  {
   "cell_type": "code",
   "execution_count": null,
   "id": "93aefd7b",
   "metadata": {},
   "outputs": [],
   "source": []
  },
  {
   "cell_type": "code",
   "execution_count": 54,
   "id": "dd762cf5",
   "metadata": {},
   "outputs": [],
   "source": [
    "def get_recommendations(title, cosine_sim=cosine_sim):\n",
    "    # 선택한 소설의 타이틀로부터 해당 소설의 인덱스를 받아온다.\n",
    "    idx = title_to_index[title]\n",
    "\n",
    "    # 해당 소설과 모든 소설과의 유사도를 가져온다.\n",
    "    sim_scores = list(enumerate(cosine_sim[idx]))\n",
    "   \n",
    "    # 유사도에 따라 소설들을 정렬한다.\n",
    "    sim_scores = sorted(sim_scores, key=lambda x: x[1], reverse=True)\n",
    "\n",
    "    # 가장 유사한 10개의 소설을 받아온다.\n",
    "    sim_scores = sim_scores[1:11]\n",
    "    \n",
    "    # 가장 유사한 10개의 소설의 인덱스를 얻는다.\n",
    "    novel_indices = [idx[0] for idx in sim_scores]\n",
    "    \n",
    "    # 가장 유사한 10개의 소설의 제목을 리턴한다.\n",
    "    # 인덱스 리스트에서 제목 리스트로 변환한다.\n",
    "    title_list = df['title'].iloc[novel_indices]\n",
    "    # 소숫점 유사도를 퍼센트로 변환한다.\n",
    "    score_list = [round(score[1], 3) * 100 for score in sim_scores]\n",
    "    # 보기 편하도록 데이터 프레임으로 바꿔 반환한다.\n",
    "    return pd.DataFrame({\"제목\": title_list, \"score\": score_list})"
   ]
  },
  {
   "cell_type": "markdown",
   "id": "b3d8bebc",
   "metadata": {},
   "source": [
    "# TF-IDF 예시"
   ]
  },
  {
   "cell_type": "code",
   "execution_count": 55,
   "id": "2b80d830",
   "metadata": {},
   "outputs": [
    {
     "data": {
      "text/html": [
       "<div>\n",
       "<style scoped>\n",
       "    .dataframe tbody tr th:only-of-type {\n",
       "        vertical-align: middle;\n",
       "    }\n",
       "\n",
       "    .dataframe tbody tr th {\n",
       "        vertical-align: top;\n",
       "    }\n",
       "\n",
       "    .dataframe thead th {\n",
       "        text-align: right;\n",
       "    }\n",
       "</style>\n",
       "<table border=\"1\" class=\"dataframe\">\n",
       "  <thead>\n",
       "    <tr style=\"text-align: right;\">\n",
       "      <th></th>\n",
       "      <th>제목</th>\n",
       "      <th>score</th>\n",
       "    </tr>\n",
       "  </thead>\n",
       "  <tbody>\n",
       "    <tr>\n",
       "      <th>5</th>\n",
       "      <td>나의 아름다운 이웃 (개정판)</td>\n",
       "      <td>21.4</td>\n",
       "    </tr>\n",
       "    <tr>\n",
       "      <th>1234</th>\n",
       "      <td>히틀러의 음식을 먹는 여자들</td>\n",
       "      <td>18.4</td>\n",
       "    </tr>\n",
       "    <tr>\n",
       "      <th>534</th>\n",
       "      <td>뒤렌마트 희곡선 - 세계문학전집 265</td>\n",
       "      <td>15.4</td>\n",
       "    </tr>\n",
       "    <tr>\n",
       "      <th>186</th>\n",
       "      <td>0시를 향하여 - 애거서 크리스티 전집 04</td>\n",
       "      <td>15.0</td>\n",
       "    </tr>\n",
       "    <tr>\n",
       "      <th>399</th>\n",
       "      <td>새들은 페루에 가서 죽다</td>\n",
       "      <td>11.1</td>\n",
       "    </tr>\n",
       "    <tr>\n",
       "      <th>483</th>\n",
       "      <td>파인드 미</td>\n",
       "      <td>11.0</td>\n",
       "    </tr>\n",
       "    <tr>\n",
       "      <th>697</th>\n",
       "      <td>그 남자의 피아노 그 여자의 소나타</td>\n",
       "      <td>10.7</td>\n",
       "    </tr>\n",
       "    <tr>\n",
       "      <th>367</th>\n",
       "      <td>부끄러움을 가르칩니다</td>\n",
       "      <td>10.7</td>\n",
       "    </tr>\n",
       "    <tr>\n",
       "      <th>725</th>\n",
       "      <td>케미스트</td>\n",
       "      <td>9.8</td>\n",
       "    </tr>\n",
       "    <tr>\n",
       "      <th>864</th>\n",
       "      <td>얼어붙은 바다</td>\n",
       "      <td>9.7</td>\n",
       "    </tr>\n",
       "  </tbody>\n",
       "</table>\n",
       "</div>"
      ],
      "text/plain": [
       "                            제목  score\n",
       "5             나의 아름다운 이웃 (개정판)   21.4\n",
       "1234           히틀러의 음식을 먹는 여자들   18.4\n",
       "534      뒤렌마트 희곡선 - 세계문학전집 265   15.4\n",
       "186   0시를 향하여 - 애거서 크리스티 전집 04   15.0\n",
       "399              새들은 페루에 가서 죽다   11.1\n",
       "483                      파인드 미   11.0\n",
       "697        그 남자의 피아노 그 여자의 소나타   10.7\n",
       "367                부끄러움을 가르칩니다   10.7\n",
       "725                       케미스트    9.8\n",
       "864                    얼어붙은 바다    9.7"
      ]
     },
     "execution_count": 55,
     "metadata": {},
     "output_type": "execute_result"
    }
   ],
   "source": [
    "# 제목으로 검색\n",
    "get_recommendations('불편한 편의점')"
   ]
  },
  {
   "cell_type": "markdown",
   "id": "00c015a2",
   "metadata": {},
   "source": [
    "# 형태소 전체 분석"
   ]
  },
  {
   "cell_type": "code",
   "execution_count": null,
   "id": "c39447ca",
   "metadata": {},
   "outputs": [],
   "source": [
    "# 라이브러리 가져오기\n",
    "from tqdm.auto import tqdm\n",
    "from konlpy.tag import Mecab\n",
    "from gensim.models.doc2vec import TaggedDocument\n",
    "\n",
    "\n",
    "tagger = Mecab(dicpath=r\"C:\\mecab\\mecab-ko-dic\")"
   ]
  },
  {
   "cell_type": "code",
   "execution_count": null,
   "id": "27d9dd99",
   "metadata": {},
   "outputs": [],
   "source": [
    "tagged_corpus_list = []\n",
    "\n",
    "# 한 행씩 순환\n",
    "for index, row in tqdm(df.iterrows(), total=len(df)):\n",
    "    preview = row['preview']\n",
    "    title = row['title']\n",
    "    \n",
    "    # 문장을 형태소로 자름\n",
    "    words = tagger.morphs(preview)\n",
    "    \n",
    "    # 각 행을 문서 객체로 변환\n",
    "    td = TaggedDocument(tags=[title], words=words)\n",
    "    \n",
    "    # 데이터를 변수에 담음\n",
    "    tagged_corpus_list.append(td)\n",
    "\n",
    "print('문서의 수 :', len(tagged_corpus_list))"
   ]
  },
  {
   "cell_type": "markdown",
   "id": "05328792",
   "metadata": {},
   "source": [
    "# Doc2Vec 모델 학습 + 저장"
   ]
  },
  {
   "cell_type": "code",
   "execution_count": null,
   "id": "ae7de85f",
   "metadata": {},
   "outputs": [],
   "source": [
    "from gensim.models import doc2vec"
   ]
  },
  {
   "cell_type": "code",
   "execution_count": null,
   "id": "a07ceb61",
   "metadata": {},
   "outputs": [],
   "source": [
    "model = doc2vec.Doc2Vec(vector_size=300, alpha=0.025, min_alpha=0.025, workers=4, window=8)\n",
    "\n",
    "# Vocabulary 빌드(데이터 주입)\n",
    "model.build_vocab(tagged_corpus_list)\n",
    "print(f\"Tag Size: {len(model.docvecs.doctags.keys())}\", end=' / ')\n",
    "\n",
    "# Doc2Vec 학습\n",
    "model.train(tagged_corpus_list, total_examples=model.corpus_count, epochs=50)\n",
    "\n",
    "# 모델 저장\n",
    "model.save('dart.doc2vec')"
   ]
  },
  {
   "cell_type": "markdown",
   "id": "4e7eac14",
   "metadata": {},
   "source": [
    "# 저장한 모델을 불러옴\n",
    "gensim 버전이 다르면 불러오지 못함"
   ]
  },
  {
   "cell_type": "code",
   "execution_count": null,
   "id": "a9745baf",
   "metadata": {},
   "outputs": [],
   "source": [
    "model = doc2vec.Doc2Vec.load(\"dart.doc2vec\")"
   ]
  },
  {
   "cell_type": "markdown",
   "id": "8ba0dd49",
   "metadata": {},
   "source": [
    "# Doc2Vec 예시"
   ]
  },
  {
   "cell_type": "code",
   "execution_count": null,
   "id": "f41517a5",
   "metadata": {},
   "outputs": [],
   "source": [
    "similar_doc = model.docvecs.most_similar('왕을 찾아서')\n",
    "pd.DataFrame(similar_doc, columns=[\"제목\", \"유사도\"])"
   ]
  },
  {
   "cell_type": "code",
   "execution_count": null,
   "id": "ccba21a4",
   "metadata": {},
   "outputs": [],
   "source": []
  }
 ],
 "metadata": {
  "kernelspec": {
   "display_name": "Python 3 (ipykernel)",
   "language": "python",
   "name": "python3"
  },
  "language_info": {
   "codemirror_mode": {
    "name": "ipython",
    "version": 3
   },
   "file_extension": ".py",
   "mimetype": "text/x-python",
   "name": "python",
   "nbconvert_exporter": "python",
   "pygments_lexer": "ipython3",
   "version": "3.9.12"
  }
 },
 "nbformat": 4,
 "nbformat_minor": 5
}
